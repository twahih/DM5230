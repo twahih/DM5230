{
 "cells": [
  {
   "attachments": {},
   "cell_type": "markdown",
   "metadata": {},
   "source": [
    "## 20 NG"
   ]
  },
  {
   "cell_type": "code",
   "execution_count": 30,
   "metadata": {},
   "outputs": [],
   "source": [
    "from sklearn.datasets import fetch_20newsgroups\n",
    "from sklearn.feature_extraction.text import TfidfVectorizer\n",
    "from sklearn.preprocessing import normalize\n",
    "from sklearn.model_selection import train_test_split\n",
    "from sklearn.cluster import DBSCAN\n",
    "from sklearn.metrics.pairwise import euclidean_distances\n",
    "from sklearn.metrics import silhouette_score as ss\n",
    "from sklearn.manifold import TSNE\n",
    "import plotly.express as px"
   ]
  },
  {
   "cell_type": "code",
   "execution_count": 31,
   "metadata": {},
   "outputs": [],
   "source": [
    "from sklearn.feature_extraction.text import CountVectorizer\n",
    "from sklearn.feature_extraction.text import TfidfTransformer\n",
    "\n",
    "# Fetch the 20 newsgroups dataset\n",
    "newsgroups = fetch_20newsgroups(subset='all')\n",
    "\n",
    "# Split the dataset into train, test, and validation sets\n",
    "X_train, X_test, y_train, y_test = train_test_split(newsgroups.data, newsgroups.target, train_size=0.20, stratify=newsgroups.target,random_state=42)\n",
    "\n",
    "\n",
    "# Vectorize the text data into a sparse matrix without common words\n",
    "max_features = 5000  # Specify the maximum number of features\n",
    "stop_words = 'english'  # Specify the set of common words\n",
    "count_vect = CountVectorizer(max_features=max_features, stop_words=stop_words)\n",
    "X_train_counts = count_vect.fit_transform(X_train)\n",
    "X_test_counts = count_vect.transform(X_test)\n",
    "\n",
    "# Apply TF-IDF transformation\n",
    "tfidf_transformer = TfidfTransformer()\n",
    "X_train_tfidf = tfidf_transformer.fit_transform(X_train_counts)\n",
    "X_test_tfidf = tfidf_transformer.transform(X_test_counts)\n"
   ]
  },
  {
   "cell_type": "code",
   "execution_count": 32,
   "metadata": {},
   "outputs": [],
   "source": [
    "X = X_train_tfidf\n"
   ]
  },
  {
   "cell_type": "code",
   "execution_count": 33,
   "metadata": {},
   "outputs": [
    {
     "name": "stdout",
     "output_type": "stream",
     "text": [
      "[-1 -1 -1 ... -1 -1 -1]\n",
      "Number of clusters in training set: 0\n",
      "Number of noise points in training set: 3769\n"
     ]
    }
   ],
   "source": [
    "\n",
    "# Compute pairwise Euclidean distances\n",
    "distances = euclidean_distances(X)\n",
    "\n",
    "# Step 3: Applying DBSCAN on the training set\n",
    "dbscan = DBSCAN(eps=0.1, min_samples=3, metric='precomputed')\n",
    "\n",
    "labels = dbscan.fit_predict(distances)\n",
    "print(labels)\n",
    "# Print the number of clusters and noise points in the training set\n",
    "n_train_clusters = len(set(labels)) - (1 if -1 in labels else 0)\n",
    "n_train_noise = list(labels).count(-1)\n",
    "\n",
    "\n",
    "print(\"Number of clusters in training set:\", n_train_clusters)\n",
    "print(\"Number of noise points in training set:\", n_train_noise)\n",
    "\n",
    "# Compute silhouette scores if the number of clusters is greater than 2\n",
    "if len(set(labels)) > 2:\n",
    "    score  = ss(X.toarray(),labels)\n",
    "    print(\"Score:\", score)\n",
    "\n"
   ]
  },
  {
   "cell_type": "code",
   "execution_count": 34,
   "metadata": {},
   "outputs": [
    {
     "data": {
      "text/plain": [
       "array([0.01      , 0.11642857, 0.22285714, 0.32928571, 0.43571429,\n",
       "       0.54214286, 0.64857143, 0.755     , 0.86142857, 0.96785714,\n",
       "       1.07428571, 1.18071429, 1.28714286, 1.39357143, 1.5       ])"
      ]
     },
     "execution_count": 34,
     "metadata": {},
     "output_type": "execute_result"
    }
   ],
   "source": [
    "import numpy as np\n",
    "\n",
    "epsilons = np.linspace(0.01,1.5,num=15)\n",
    "epsilons"
   ]
  },
  {
   "cell_type": "code",
   "execution_count": 35,
   "metadata": {},
   "outputs": [
    {
     "data": {
      "text/plain": [
       "array([ 1,  2,  3,  4,  5,  6,  7,  8,  9, 10, 11, 12, 13, 14])"
      ]
     },
     "execution_count": 35,
     "metadata": {},
     "output_type": "execute_result"
    }
   ],
   "source": [
    "min_samples =np.arange(1,15,step=1)\n",
    "min_samples"
   ]
  },
  {
   "cell_type": "code",
   "execution_count": 36,
   "metadata": {},
   "outputs": [],
   "source": [
    "import itertools \n",
    "\n",
    "combinations = list(itertools.product(epsilons, min_samples))"
   ]
  },
  {
   "cell_type": "code",
   "execution_count": 38,
   "metadata": {},
   "outputs": [],
   "source": [
    "\n",
    "def get_scores_and_labels(combinations,X,k=None):\n",
    "    \"\"\" This function looop through all combinations and get the scores and labels for each combination. and return the paremeters that produces k clusters or the next best approximation \n",
    "    Parameters\n",
    "    \"\"\"\n",
    "\n",
    "    scores = []\n",
    "    all_labels_lists = []\n",
    "\n",
    "    for i, (eps,num_samples) in enumerate(combinations):\n",
    "        dbscan_model = DBSCAN(eps=eps, min_samples=num_samples,metric='euclidean')\n",
    "        labels = dbscan_model.fit(X).labels_\n",
    "        labels_set = set(labels)\n",
    "        num_clusters = len(labels_set)\n",
    "        if -1 in labels_set:\n",
    "            num_clusters -= 1\n",
    "\n",
    "        if(num_clusters < 2) or (num_clusters >20):\n",
    "            scores.append(-10)\n",
    "            all_labels_lists.append('bad')\n",
    "            c = (eps,num_samples)\n",
    "            print(f'combinations {c} {i +1} of {len(combinations)} has {num_clusters} clusters. Movinng on')\n",
    "            continue\n",
    "        all_labels_lists.append(labels)\n",
    "        scores.append(ss(X.toarray(),labels))\n",
    "        print(f'Index: {i}, Combination: {eps}, Number of samples: {num_samples}, Scores: {scores[-1]}, Number of clusters: {num_clusters}')\n",
    "\n",
    "    best_index = np.argmax(scores)\n",
    "    best_parameters = combinations[best_index]\n",
    "    best_labels = all_labels_lists[best_index]\n",
    "    best_score = scores[best_index]\n",
    "\n",
    "    return {'best_epsilon' : best_parameters[0], \n",
    "            'best_min_samples' : best_parameters[1],\n",
    "            'best_labels' : best_labels,\n",
    "            'best_score' : best_score}\n",
    "            \n",
    "\n",
    "        "
   ]
  },
  {
   "cell_type": "code",
   "execution_count": 39,
   "metadata": {},
   "outputs": [
    {
     "name": "stdout",
     "output_type": "stream",
     "text": [
      "combinations (0.01, 1) 1 of 210 has 3767 clusters. Movinng on\n",
      "Index: 1, Combination: 0.01, Number of samples: 2, Scores: -0.003952446194020178, Number of clusters: 2\n",
      "combinations (0.01, 3) 3 of 210 has 0 clusters. Movinng on\n",
      "combinations (0.01, 4) 4 of 210 has 0 clusters. Movinng on\n",
      "combinations (0.01, 5) 5 of 210 has 0 clusters. Movinng on\n",
      "combinations (0.01, 6) 6 of 210 has 0 clusters. Movinng on\n",
      "combinations (0.01, 7) 7 of 210 has 0 clusters. Movinng on\n",
      "combinations (0.01, 8) 8 of 210 has 0 clusters. Movinng on\n",
      "combinations (0.01, 9) 9 of 210 has 0 clusters. Movinng on\n",
      "combinations (0.01, 10) 10 of 210 has 0 clusters. Movinng on\n",
      "combinations (0.01, 11) 11 of 210 has 0 clusters. Movinng on\n",
      "combinations (0.01, 12) 12 of 210 has 0 clusters. Movinng on\n",
      "combinations (0.01, 13) 13 of 210 has 0 clusters. Movinng on\n",
      "combinations (0.01, 14) 14 of 210 has 0 clusters. Movinng on\n",
      "combinations (0.11642857142857142, 1) 15 of 210 has 3763 clusters. Movinng on\n",
      "Index: 15, Combination: 0.11642857142857142, Number of samples: 2, Scores: -0.008769399520075664, Number of clusters: 6\n",
      "combinations (0.11642857142857142, 3) 17 of 210 has 0 clusters. Movinng on\n",
      "combinations (0.11642857142857142, 4) 18 of 210 has 0 clusters. Movinng on\n",
      "combinations (0.11642857142857142, 5) 19 of 210 has 0 clusters. Movinng on\n",
      "combinations (0.11642857142857142, 6) 20 of 210 has 0 clusters. Movinng on\n",
      "combinations (0.11642857142857142, 7) 21 of 210 has 0 clusters. Movinng on\n",
      "combinations (0.11642857142857142, 8) 22 of 210 has 0 clusters. Movinng on\n",
      "combinations (0.11642857142857142, 9) 23 of 210 has 0 clusters. Movinng on\n",
      "combinations (0.11642857142857142, 10) 24 of 210 has 0 clusters. Movinng on\n",
      "combinations (0.11642857142857142, 11) 25 of 210 has 0 clusters. Movinng on\n",
      "combinations (0.11642857142857142, 12) 26 of 210 has 0 clusters. Movinng on\n",
      "combinations (0.11642857142857142, 13) 27 of 210 has 0 clusters. Movinng on\n",
      "combinations (0.11642857142857142, 14) 28 of 210 has 0 clusters. Movinng on\n",
      "combinations (0.22285714285714286, 1) 29 of 210 has 3760 clusters. Movinng on\n",
      "Index: 29, Combination: 0.22285714285714286, Number of samples: 2, Scores: -0.011613643269357895, Number of clusters: 8\n",
      "combinations (0.22285714285714286, 3) 31 of 210 has 1 clusters. Movinng on\n",
      "combinations (0.22285714285714286, 4) 32 of 210 has 0 clusters. Movinng on\n",
      "combinations (0.22285714285714286, 5) 33 of 210 has 0 clusters. Movinng on\n",
      "combinations (0.22285714285714286, 6) 34 of 210 has 0 clusters. Movinng on\n",
      "combinations (0.22285714285714286, 7) 35 of 210 has 0 clusters. Movinng on\n",
      "combinations (0.22285714285714286, 8) 36 of 210 has 0 clusters. Movinng on\n",
      "combinations (0.22285714285714286, 9) 37 of 210 has 0 clusters. Movinng on\n",
      "combinations (0.22285714285714286, 10) 38 of 210 has 0 clusters. Movinng on\n",
      "combinations (0.22285714285714286, 11) 39 of 210 has 0 clusters. Movinng on\n",
      "combinations (0.22285714285714286, 12) 40 of 210 has 0 clusters. Movinng on\n",
      "combinations (0.22285714285714286, 13) 41 of 210 has 0 clusters. Movinng on\n",
      "combinations (0.22285714285714286, 14) 42 of 210 has 0 clusters. Movinng on\n",
      "combinations (0.3292857142857143, 1) 43 of 210 has 3753 clusters. Movinng on\n",
      "Index: 43, Combination: 0.3292857142857143, Number of samples: 2, Scores: -0.021962064199413107, Number of clusters: 15\n",
      "combinations (0.3292857142857143, 3) 45 of 210 has 1 clusters. Movinng on\n",
      "combinations (0.3292857142857143, 4) 46 of 210 has 0 clusters. Movinng on\n",
      "combinations (0.3292857142857143, 5) 47 of 210 has 0 clusters. Movinng on\n",
      "combinations (0.3292857142857143, 6) 48 of 210 has 0 clusters. Movinng on\n",
      "combinations (0.3292857142857143, 7) 49 of 210 has 0 clusters. Movinng on\n",
      "combinations (0.3292857142857143, 8) 50 of 210 has 0 clusters. Movinng on\n",
      "combinations (0.3292857142857143, 9) 51 of 210 has 0 clusters. Movinng on\n",
      "combinations (0.3292857142857143, 10) 52 of 210 has 0 clusters. Movinng on\n",
      "combinations (0.3292857142857143, 11) 53 of 210 has 0 clusters. Movinng on\n",
      "combinations (0.3292857142857143, 12) 54 of 210 has 0 clusters. Movinng on\n",
      "combinations (0.3292857142857143, 13) 55 of 210 has 0 clusters. Movinng on\n",
      "combinations (0.3292857142857143, 14) 56 of 210 has 0 clusters. Movinng on\n",
      "combinations (0.4357142857142857, 1) 57 of 210 has 3739 clusters. Movinng on\n",
      "combinations (0.4357142857142857, 2) 58 of 210 has 28 clusters. Movinng on\n",
      "Index: 58, Combination: 0.4357142857142857, Number of samples: 3, Scores: 0.004760470579627034, Number of clusters: 2\n",
      "combinations (0.4357142857142857, 4) 60 of 210 has 0 clusters. Movinng on\n",
      "combinations (0.4357142857142857, 5) 61 of 210 has 0 clusters. Movinng on\n",
      "combinations (0.4357142857142857, 6) 62 of 210 has 0 clusters. Movinng on\n",
      "combinations (0.4357142857142857, 7) 63 of 210 has 0 clusters. Movinng on\n",
      "combinations (0.4357142857142857, 8) 64 of 210 has 0 clusters. Movinng on\n",
      "combinations (0.4357142857142857, 9) 65 of 210 has 0 clusters. Movinng on\n",
      "combinations (0.4357142857142857, 10) 66 of 210 has 0 clusters. Movinng on\n",
      "combinations (0.4357142857142857, 11) 67 of 210 has 0 clusters. Movinng on\n",
      "combinations (0.4357142857142857, 12) 68 of 210 has 0 clusters. Movinng on\n",
      "combinations (0.4357142857142857, 13) 69 of 210 has 0 clusters. Movinng on\n",
      "combinations (0.4357142857142857, 14) 70 of 210 has 0 clusters. Movinng on\n",
      "combinations (0.5421428571428571, 1) 71 of 210 has 3719 clusters. Movinng on\n",
      "combinations (0.5421428571428571, 2) 72 of 210 has 44 clusters. Movinng on\n",
      "Index: 72, Combination: 0.5421428571428571, Number of samples: 3, Scores: -0.007110973995313641, Number of clusters: 5\n",
      "combinations (0.5421428571428571, 4) 74 of 210 has 1 clusters. Movinng on\n",
      "combinations (0.5421428571428571, 5) 75 of 210 has 0 clusters. Movinng on\n",
      "combinations (0.5421428571428571, 6) 76 of 210 has 0 clusters. Movinng on\n",
      "combinations (0.5421428571428571, 7) 77 of 210 has 0 clusters. Movinng on\n",
      "combinations (0.5421428571428571, 8) 78 of 210 has 0 clusters. Movinng on\n",
      "combinations (0.5421428571428571, 9) 79 of 210 has 0 clusters. Movinng on\n",
      "combinations (0.5421428571428571, 10) 80 of 210 has 0 clusters. Movinng on\n",
      "combinations (0.5421428571428571, 11) 81 of 210 has 0 clusters. Movinng on\n",
      "combinations (0.5421428571428571, 12) 82 of 210 has 0 clusters. Movinng on\n",
      "combinations (0.5421428571428571, 13) 83 of 210 has 0 clusters. Movinng on\n",
      "combinations (0.5421428571428571, 14) 84 of 210 has 0 clusters. Movinng on\n",
      "combinations (0.6485714285714286, 1) 85 of 210 has 3669 clusters. Movinng on\n",
      "combinations (0.6485714285714286, 2) 86 of 210 has 87 clusters. Movinng on\n",
      "Index: 86, Combination: 0.6485714285714286, Number of samples: 3, Scores: -0.014132075158560175, Number of clusters: 10\n",
      "Index: 87, Combination: 0.6485714285714286, Number of samples: 4, Scores: 0.006154150798220846, Number of clusters: 2\n",
      "combinations (0.6485714285714286, 5) 89 of 210 has 1 clusters. Movinng on\n",
      "combinations (0.6485714285714286, 6) 90 of 210 has 0 clusters. Movinng on\n",
      "combinations (0.6485714285714286, 7) 91 of 210 has 0 clusters. Movinng on\n",
      "combinations (0.6485714285714286, 8) 92 of 210 has 0 clusters. Movinng on\n",
      "combinations (0.6485714285714286, 9) 93 of 210 has 0 clusters. Movinng on\n",
      "combinations (0.6485714285714286, 10) 94 of 210 has 0 clusters. Movinng on\n",
      "combinations (0.6485714285714286, 11) 95 of 210 has 0 clusters. Movinng on\n",
      "combinations (0.6485714285714286, 12) 96 of 210 has 0 clusters. Movinng on\n",
      "combinations (0.6485714285714286, 13) 97 of 210 has 0 clusters. Movinng on\n",
      "combinations (0.6485714285714286, 14) 98 of 210 has 0 clusters. Movinng on\n",
      "combinations (0.755, 1) 99 of 210 has 3579 clusters. Movinng on\n",
      "combinations (0.755, 2) 100 of 210 has 153 clusters. Movinng on\n",
      "combinations (0.755, 3) 101 of 210 has 22 clusters. Movinng on\n",
      "Index: 101, Combination: 0.755, Number of samples: 4, Scores: -0.005458406120281962, Number of clusters: 7\n",
      "Index: 102, Combination: 0.755, Number of samples: 5, Scores: -0.0001751649397771284, Number of clusters: 3\n",
      "Index: 103, Combination: 0.755, Number of samples: 6, Scores: 0.0012716470977661035, Number of clusters: 2\n",
      "combinations (0.755, 7) 105 of 210 has 1 clusters. Movinng on\n",
      "combinations (0.755, 8) 106 of 210 has 1 clusters. Movinng on\n",
      "combinations (0.755, 9) 107 of 210 has 1 clusters. Movinng on\n",
      "combinations (0.755, 10) 108 of 210 has 0 clusters. Movinng on\n",
      "combinations (0.755, 11) 109 of 210 has 0 clusters. Movinng on\n",
      "combinations (0.755, 12) 110 of 210 has 0 clusters. Movinng on\n",
      "combinations (0.755, 13) 111 of 210 has 0 clusters. Movinng on\n",
      "combinations (0.755, 14) 112 of 210 has 0 clusters. Movinng on\n",
      "combinations (0.8614285714285714, 1) 113 of 210 has 3416 clusters. Movinng on\n",
      "combinations (0.8614285714285714, 2) 114 of 210 has 258 clusters. Movinng on\n",
      "combinations (0.8614285714285714, 3) 115 of 210 has 58 clusters. Movinng on\n",
      "Index: 115, Combination: 0.8614285714285714, Number of samples: 4, Scores: -0.01800861206578461, Number of clusters: 19\n",
      "Index: 116, Combination: 0.8614285714285714, Number of samples: 5, Scores: -0.0030742816727683145, Number of clusters: 6\n",
      "Index: 117, Combination: 0.8614285714285714, Number of samples: 6, Scores: 0.0020386120566655594, Number of clusters: 2\n",
      "combinations (0.8614285714285714, 7) 119 of 210 has 1 clusters. Movinng on\n",
      "combinations (0.8614285714285714, 8) 120 of 210 has 1 clusters. Movinng on\n",
      "combinations (0.8614285714285714, 9) 121 of 210 has 1 clusters. Movinng on\n",
      "combinations (0.8614285714285714, 10) 122 of 210 has 1 clusters. Movinng on\n",
      "combinations (0.8614285714285714, 11) 123 of 210 has 1 clusters. Movinng on\n",
      "combinations (0.8614285714285714, 12) 124 of 210 has 1 clusters. Movinng on\n",
      "combinations (0.8614285714285714, 13) 125 of 210 has 0 clusters. Movinng on\n",
      "combinations (0.8614285714285714, 14) 126 of 210 has 0 clusters. Movinng on\n",
      "combinations (0.9678571428571429, 1) 127 of 210 has 3117 clusters. Movinng on\n",
      "combinations (0.9678571428571429, 2) 128 of 210 has 360 clusters. Movinng on\n",
      "combinations (0.9678571428571429, 3) 129 of 210 has 129 clusters. Movinng on\n",
      "combinations (0.9678571428571429, 4) 130 of 210 has 53 clusters. Movinng on\n",
      "combinations (0.9678571428571429, 5) 131 of 210 has 33 clusters. Movinng on\n",
      "Index: 131, Combination: 0.9678571428571429, Number of samples: 6, Scores: -0.009866959200300021, Number of clusters: 13\n",
      "Index: 132, Combination: 0.9678571428571429, Number of samples: 7, Scores: -0.006074725708577416, Number of clusters: 8\n",
      "Index: 133, Combination: 0.9678571428571429, Number of samples: 8, Scores: -0.0036129365027684065, Number of clusters: 4\n",
      "Index: 134, Combination: 0.9678571428571429, Number of samples: 9, Scores: 6.580489108929255e-05, Number of clusters: 2\n",
      "combinations (0.9678571428571429, 10) 136 of 210 has 1 clusters. Movinng on\n",
      "combinations (0.9678571428571429, 11) 137 of 210 has 1 clusters. Movinng on\n",
      "combinations (0.9678571428571429, 12) 138 of 210 has 1 clusters. Movinng on\n",
      "combinations (0.9678571428571429, 13) 139 of 210 has 1 clusters. Movinng on\n",
      "combinations (0.9678571428571429, 14) 140 of 210 has 1 clusters. Movinng on\n",
      "combinations (1.0742857142857143, 1) 141 of 210 has 2528 clusters. Movinng on\n",
      "combinations (1.0742857142857143, 2) 142 of 210 has 445 clusters. Movinng on\n",
      "combinations (1.0742857142857143, 3) 143 of 210 has 180 clusters. Movinng on\n",
      "combinations (1.0742857142857143, 4) 144 of 210 has 97 clusters. Movinng on\n",
      "combinations (1.0742857142857143, 5) 145 of 210 has 76 clusters. Movinng on\n",
      "combinations (1.0742857142857143, 6) 146 of 210 has 57 clusters. Movinng on\n",
      "combinations (1.0742857142857143, 7) 147 of 210 has 33 clusters. Movinng on\n",
      "combinations (1.0742857142857143, 8) 148 of 210 has 23 clusters. Movinng on\n",
      "Index: 148, Combination: 1.0742857142857143, Number of samples: 9, Scores: -0.008203670392094244, Number of clusters: 18\n",
      "Index: 149, Combination: 1.0742857142857143, Number of samples: 10, Scores: -0.0055841671087156096, Number of clusters: 11\n",
      "Index: 150, Combination: 1.0742857142857143, Number of samples: 11, Scores: -0.005819662741469604, Number of clusters: 9\n",
      "Index: 151, Combination: 1.0742857142857143, Number of samples: 12, Scores: -0.004037242466176961, Number of clusters: 7\n",
      "Index: 152, Combination: 1.0742857142857143, Number of samples: 13, Scores: -0.004370685811779083, Number of clusters: 6\n",
      "Index: 153, Combination: 1.0742857142857143, Number of samples: 14, Scores: -0.004412459007937176, Number of clusters: 6\n",
      "combinations (1.1807142857142858, 1) 155 of 210 has 1151 clusters. Movinng on\n",
      "combinations (1.1807142857142858, 2) 156 of 210 has 222 clusters. Movinng on\n",
      "combinations (1.1807142857142858, 3) 157 of 210 has 87 clusters. Movinng on\n",
      "combinations (1.1807142857142858, 4) 158 of 210 has 48 clusters. Movinng on\n",
      "combinations (1.1807142857142858, 5) 159 of 210 has 49 clusters. Movinng on\n",
      "combinations (1.1807142857142858, 6) 160 of 210 has 43 clusters. Movinng on\n",
      "combinations (1.1807142857142858, 7) 161 of 210 has 38 clusters. Movinng on\n",
      "combinations (1.1807142857142858, 8) 162 of 210 has 38 clusters. Movinng on\n",
      "combinations (1.1807142857142858, 9) 163 of 210 has 29 clusters. Movinng on\n",
      "combinations (1.1807142857142858, 10) 164 of 210 has 27 clusters. Movinng on\n",
      "combinations (1.1807142857142858, 11) 165 of 210 has 26 clusters. Movinng on\n",
      "combinations (1.1807142857142858, 12) 166 of 210 has 26 clusters. Movinng on\n",
      "combinations (1.1807142857142858, 13) 167 of 210 has 22 clusters. Movinng on\n",
      "Index: 167, Combination: 1.1807142857142858, Number of samples: 14, Scores: -0.004695397504951597, Number of clusters: 20\n",
      "combinations (1.2871428571428571, 1) 169 of 210 has 45 clusters. Movinng on\n",
      "Index: 169, Combination: 1.2871428571428571, Number of samples: 2, Scores: -0.002359801596948099, Number of clusters: 5\n",
      "Index: 170, Combination: 1.2871428571428571, Number of samples: 3, Scores: 0.001962202826257196, Number of clusters: 3\n",
      "combinations (1.2871428571428571, 4) 172 of 210 has 1 clusters. Movinng on\n",
      "combinations (1.2871428571428571, 5) 173 of 210 has 1 clusters. Movinng on\n",
      "combinations (1.2871428571428571, 6) 174 of 210 has 1 clusters. Movinng on\n",
      "combinations (1.2871428571428571, 7) 175 of 210 has 1 clusters. Movinng on\n",
      "combinations (1.2871428571428571, 8) 176 of 210 has 1 clusters. Movinng on\n",
      "combinations (1.2871428571428571, 9) 177 of 210 has 1 clusters. Movinng on\n",
      "combinations (1.2871428571428571, 10) 178 of 210 has 1 clusters. Movinng on\n",
      "combinations (1.2871428571428571, 11) 179 of 210 has 1 clusters. Movinng on\n",
      "combinations (1.2871428571428571, 12) 180 of 210 has 1 clusters. Movinng on\n",
      "combinations (1.2871428571428571, 13) 181 of 210 has 1 clusters. Movinng on\n",
      "combinations (1.2871428571428571, 14) 182 of 210 has 1 clusters. Movinng on\n",
      "combinations (1.3935714285714285, 1) 183 of 210 has 1 clusters. Movinng on\n",
      "combinations (1.3935714285714285, 2) 184 of 210 has 1 clusters. Movinng on\n",
      "combinations (1.3935714285714285, 3) 185 of 210 has 1 clusters. Movinng on\n",
      "combinations (1.3935714285714285, 4) 186 of 210 has 1 clusters. Movinng on\n",
      "combinations (1.3935714285714285, 5) 187 of 210 has 1 clusters. Movinng on\n",
      "combinations (1.3935714285714285, 6) 188 of 210 has 1 clusters. Movinng on\n"
     ]
    }
   ],
   "source": [
    "best_dict = get_scores_and_labels(combinations,X,20)"
   ]
  },
  {
   "cell_type": "code",
   "execution_count": 26,
   "metadata": {},
   "outputs": [
    {
     "name": "stdout",
     "output_type": "stream",
     "text": [
      "{'best_epsilon': 0.6464285714285715, 'best_min_samples': 4, 'best_labels': array([-1, -1, -1, ..., -1, -1, -1], dtype=int64), 'best_score': 0.006154150798220846}\n"
     ]
    }
   ],
   "source": [
    "print(best_dict)"
   ]
  },
  {
   "cell_type": "code",
   "execution_count": 8,
   "metadata": {},
   "outputs": [
    {
     "name": "stdout",
     "output_type": "stream",
     "text": [
      "Label: -1 Count: 18761\n",
      "Label: 0 Count: 5\n",
      "Label: 1 Count: 3\n",
      "Label: 2 Count: 3\n",
      "Label: 3 Count: 3\n",
      "Label: 4 Count: 4\n",
      "Label: 5 Count: 6\n",
      "Label: 6 Count: 4\n",
      "Label: 7 Count: 3\n",
      "Label: 8 Count: 7\n",
      "Label: 9 Count: 3\n",
      "Label: 10 Count: 4\n",
      "Label: 11 Count: 3\n",
      "Label: 12 Count: 10\n",
      "Label: 13 Count: 3\n",
      "Label: 14 Count: 3\n",
      "Label: 15 Count: 4\n",
      "Label: 16 Count: 5\n",
      "Label: 17 Count: 6\n",
      "Label: 18 Count: 3\n",
      "Label: 19 Count: 3\n"
     ]
    }
   ],
   "source": [
    "# Step 4: Apply DBSCAN\n",
    "eps = best_dict['best_epsilon']\n",
    "min_samples = best_dict['best_min_samples']\n",
    "\n",
    "dbscan = DBSCAN(eps=eps, min_samples=min_samples,metric='euclidean')\n",
    "dbscan.fit(X)\n",
    "\n",
    "labels = dbscan.labels_\n",
    "unique_labels,counts = np.unique(labels,return_counts=True)\n",
    "\n",
    "# Print the label counts\n",
    "for label, count in zip(unique_labels, counts):\n",
    "    print(\"Label:\", label, \"Count:\", count)"
   ]
  },
  {
   "cell_type": "code",
   "execution_count": 1,
   "metadata": {},
   "outputs": [
    {
     "ename": "NameError",
     "evalue": "name 'TSNE' is not defined",
     "output_type": "error",
     "traceback": [
      "\u001b[1;31m---------------------------------------------------------------------------\u001b[0m",
      "\u001b[1;31mNameError\u001b[0m                                 Traceback (most recent call last)",
      "Cell \u001b[1;32mIn[1], line 2\u001b[0m\n\u001b[0;32m      1\u001b[0m \u001b[39m# Apply t-SNE for dimensionality reduction\u001b[39;00m\n\u001b[1;32m----> 2\u001b[0m tsne \u001b[39m=\u001b[39m TSNE(n_components\u001b[39m=\u001b[39m\u001b[39m2\u001b[39m, random_state\u001b[39m=\u001b[39m\u001b[39m42\u001b[39m)\n\u001b[0;32m      3\u001b[0m X_tsne \u001b[39m=\u001b[39m tsne\u001b[39m.\u001b[39mfit_transform(X_train\u001b[39m.\u001b[39mtoarray())\n",
      "\u001b[1;31mNameError\u001b[0m: name 'TSNE' is not defined"
     ]
    }
   ],
   "source": [
    "# Apply t-SNE for dimensionality reduction\n",
    "tsne = TSNE(n_components=2, random_state=42)\n",
    "X_tsne = tsne.fit_transform(X_train.toarray())"
   ]
  },
  {
   "cell_type": "code",
   "execution_count": 10,
   "metadata": {},
   "outputs": [
    {
     "ename": "ValueError",
     "evalue": "All arguments should have the same length. The length of argument `color` is 18846, whereas the length of  previously-processed arguments ['x', 'index'] is 3769",
     "output_type": "error",
     "traceback": [
      "\u001b[1;31m---------------------------------------------------------------------------\u001b[0m",
      "\u001b[1;31mValueError\u001b[0m                                Traceback (most recent call last)",
      "Cell \u001b[1;32mIn[10], line 2\u001b[0m\n\u001b[0;32m      1\u001b[0m \u001b[39m# Plot the t-SNE visualization\u001b[39;00m\n\u001b[1;32m----> 2\u001b[0m fig \u001b[39m=\u001b[39m px\u001b[39m.\u001b[39;49mscatter(X_tsne[:, \u001b[39m0\u001b[39;49m], X_tsne[:, \u001b[39m1\u001b[39;49m], color\u001b[39m=\u001b[39;49mbest_dict[\u001b[39m'\u001b[39;49m\u001b[39mbest_labels\u001b[39;49m\u001b[39m'\u001b[39;49m])\n\u001b[0;32m      3\u001b[0m fig\u001b[39m.\u001b[39mupdate_layout(title \u001b[39m=\u001b[39m \u001b[39m\"\u001b[39m\u001b[39mt-SNE Visualization of 20 Newsgroups Dataset\u001b[39m\u001b[39m\"\u001b[39m)\n\u001b[0;32m      4\u001b[0m fig\u001b[39m.\u001b[39mshow()\n",
      "File \u001b[1;32mc:\\Users\\twahirwa.h\\AppData\\Local\\anaconda3\\lib\\site-packages\\plotly\\express\\_chart_types.py:66\u001b[0m, in \u001b[0;36mscatter\u001b[1;34m(data_frame, x, y, color, symbol, size, hover_name, hover_data, custom_data, text, facet_row, facet_col, facet_col_wrap, facet_row_spacing, facet_col_spacing, error_x, error_x_minus, error_y, error_y_minus, animation_frame, animation_group, category_orders, labels, orientation, color_discrete_sequence, color_discrete_map, color_continuous_scale, range_color, color_continuous_midpoint, symbol_sequence, symbol_map, opacity, size_max, marginal_x, marginal_y, trendline, trendline_options, trendline_color_override, trendline_scope, log_x, log_y, range_x, range_y, render_mode, title, template, width, height)\u001b[0m\n\u001b[0;32m     12\u001b[0m \u001b[39mdef\u001b[39;00m \u001b[39mscatter\u001b[39m(\n\u001b[0;32m     13\u001b[0m     data_frame\u001b[39m=\u001b[39m\u001b[39mNone\u001b[39;00m,\n\u001b[0;32m     14\u001b[0m     x\u001b[39m=\u001b[39m\u001b[39mNone\u001b[39;00m,\n\u001b[1;32m   (...)\u001b[0m\n\u001b[0;32m     60\u001b[0m     height\u001b[39m=\u001b[39m\u001b[39mNone\u001b[39;00m,\n\u001b[0;32m     61\u001b[0m ) \u001b[39m-\u001b[39m\u001b[39m>\u001b[39m go\u001b[39m.\u001b[39mFigure:\n\u001b[0;32m     62\u001b[0m     \u001b[39m\"\"\"\u001b[39;00m\n\u001b[0;32m     63\u001b[0m \u001b[39m    In a scatter plot, each row of `data_frame` is represented by a symbol\u001b[39;00m\n\u001b[0;32m     64\u001b[0m \u001b[39m    mark in 2D space.\u001b[39;00m\n\u001b[0;32m     65\u001b[0m \u001b[39m    \"\"\"\u001b[39;00m\n\u001b[1;32m---> 66\u001b[0m     \u001b[39mreturn\u001b[39;00m make_figure(args\u001b[39m=\u001b[39;49m\u001b[39mlocals\u001b[39;49m(), constructor\u001b[39m=\u001b[39;49mgo\u001b[39m.\u001b[39;49mScatter)\n",
      "File \u001b[1;32mc:\\Users\\twahirwa.h\\AppData\\Local\\anaconda3\\lib\\site-packages\\plotly\\express\\_core.py:1990\u001b[0m, in \u001b[0;36mmake_figure\u001b[1;34m(args, constructor, trace_patch, layout_patch)\u001b[0m\n\u001b[0;32m   1987\u001b[0m layout_patch \u001b[39m=\u001b[39m layout_patch \u001b[39mor\u001b[39;00m {}\n\u001b[0;32m   1988\u001b[0m apply_default_cascade(args)\n\u001b[1;32m-> 1990\u001b[0m args \u001b[39m=\u001b[39m build_dataframe(args, constructor)\n\u001b[0;32m   1991\u001b[0m \u001b[39mif\u001b[39;00m constructor \u001b[39min\u001b[39;00m [go\u001b[39m.\u001b[39mTreemap, go\u001b[39m.\u001b[39mSunburst, go\u001b[39m.\u001b[39mIcicle] \u001b[39mand\u001b[39;00m args[\u001b[39m\"\u001b[39m\u001b[39mpath\u001b[39m\u001b[39m\"\u001b[39m] \u001b[39mis\u001b[39;00m \u001b[39mnot\u001b[39;00m \u001b[39mNone\u001b[39;00m:\n\u001b[0;32m   1992\u001b[0m     args \u001b[39m=\u001b[39m process_dataframe_hierarchy(args)\n",
      "File \u001b[1;32mc:\\Users\\twahirwa.h\\AppData\\Local\\anaconda3\\lib\\site-packages\\plotly\\express\\_core.py:1405\u001b[0m, in \u001b[0;36mbuild_dataframe\u001b[1;34m(args, constructor)\u001b[0m\n\u001b[0;32m   1402\u001b[0m     args[\u001b[39m\"\u001b[39m\u001b[39mcolor\u001b[39m\u001b[39m\"\u001b[39m] \u001b[39m=\u001b[39m \u001b[39mNone\u001b[39;00m\n\u001b[0;32m   1403\u001b[0m \u001b[39m# now that things have been prepped, we do the systematic rewriting of `args`\u001b[39;00m\n\u001b[1;32m-> 1405\u001b[0m df_output, wide_id_vars \u001b[39m=\u001b[39m process_args_into_dataframe(\n\u001b[0;32m   1406\u001b[0m     args, wide_mode, var_name, value_name\n\u001b[0;32m   1407\u001b[0m )\n\u001b[0;32m   1409\u001b[0m \u001b[39m# now that `df_output` exists and `args` contains only references, we complete\u001b[39;00m\n\u001b[0;32m   1410\u001b[0m \u001b[39m# the special-case and wide-mode handling by further rewriting args and/or mutating\u001b[39;00m\n\u001b[0;32m   1411\u001b[0m \u001b[39m# df_output\u001b[39;00m\n\u001b[0;32m   1413\u001b[0m count_name \u001b[39m=\u001b[39m _escape_col_name(df_output, \u001b[39m\"\u001b[39m\u001b[39mcount\u001b[39m\u001b[39m\"\u001b[39m, [var_name, value_name])\n",
      "File \u001b[1;32mc:\\Users\\twahirwa.h\\AppData\\Local\\anaconda3\\lib\\site-packages\\plotly\\express\\_core.py:1245\u001b[0m, in \u001b[0;36mprocess_args_into_dataframe\u001b[1;34m(args, wide_mode, var_name, value_name)\u001b[0m\n\u001b[0;32m   1242\u001b[0m         col_name \u001b[39m=\u001b[39m _check_name_not_reserved(field, reserved_names)\n\u001b[0;32m   1244\u001b[0m     \u001b[39mif\u001b[39;00m length \u001b[39mand\u001b[39;00m \u001b[39mlen\u001b[39m(argument) \u001b[39m!=\u001b[39m length:\n\u001b[1;32m-> 1245\u001b[0m         \u001b[39mraise\u001b[39;00m \u001b[39mValueError\u001b[39;00m(\n\u001b[0;32m   1246\u001b[0m             \u001b[39m\"\u001b[39m\u001b[39mAll arguments should have the same length. \u001b[39m\u001b[39m\"\u001b[39m\n\u001b[0;32m   1247\u001b[0m             \u001b[39m\"\u001b[39m\u001b[39mThe length of argument `\u001b[39m\u001b[39m%s\u001b[39;00m\u001b[39m` is \u001b[39m\u001b[39m%d\u001b[39;00m\u001b[39m, whereas the \u001b[39m\u001b[39m\"\u001b[39m\n\u001b[0;32m   1248\u001b[0m             \u001b[39m\"\u001b[39m\u001b[39mlength of  previously-processed arguments \u001b[39m\u001b[39m%s\u001b[39;00m\u001b[39m is \u001b[39m\u001b[39m%d\u001b[39;00m\u001b[39m\"\u001b[39m\n\u001b[0;32m   1249\u001b[0m             \u001b[39m%\u001b[39m (field, \u001b[39mlen\u001b[39m(argument), \u001b[39mstr\u001b[39m(\u001b[39mlist\u001b[39m(df_output\u001b[39m.\u001b[39mcolumns)), length)\n\u001b[0;32m   1250\u001b[0m         )\n\u001b[0;32m   1251\u001b[0m     df_output[\u001b[39mstr\u001b[39m(col_name)] \u001b[39m=\u001b[39m to_unindexed_series(argument)\n\u001b[0;32m   1253\u001b[0m \u001b[39m# Finally, update argument with column name now that column exists\u001b[39;00m\n",
      "\u001b[1;31mValueError\u001b[0m: All arguments should have the same length. The length of argument `color` is 18846, whereas the length of  previously-processed arguments ['x', 'index'] is 3769"
     ]
    }
   ],
   "source": [
    "# Plot the t-SNE visualization\n",
    "fig = px.scatter(X_tsne[:, 0], X_tsne[:, 1], color=labels)\n",
    "fig.update_layout(title = \"t-SNE Visualization of 20 Newsgroups Dataset\")\n",
    "fig.show()"
   ]
  },
  {
   "attachments": {},
   "cell_type": "markdown",
   "metadata": {},
   "source": [
    "## Back testing with best epsilon and best alpha min sample"
   ]
  },
  {
   "attachments": {},
   "cell_type": "markdown",
   "metadata": {},
   "source": [
    "## FASHION dataset"
   ]
  },
  {
   "cell_type": "code",
   "execution_count": 3,
   "metadata": {},
   "outputs": [
    {
     "name": "stderr",
     "output_type": "stream",
     "text": [
      "c:\\Users\\twahirwa.h\\AppData\\Local\\anaconda3\\lib\\site-packages\\sklearn\\datasets\\_openml.py:932: FutureWarning: The default value of `parser` will change from `'liac-arff'` to `'auto'` in 1.4. You can set `parser='auto'` to silence this warning. Therefore, an `ImportError` will be raised from 1.4 if the dataset is dense and pandas is not installed. Note that the pandas parser may return different data types. See the Notes Section in fetch_openml's API doc for details.\n",
      "  warn(\n"
     ]
    },
    {
     "data": {
      "image/png": "[encoded data removed]",
      "text/plain": [
       "<Figure size 640x480 with 2 Axes>"
      ]
     },
     "metadata": {},
     "output_type": "display_data"
    },
    {
     "name": "stdout",
     "output_type": "stream",
     "text": [
      "Number of clusters: 0\n",
      "Number of noise points: 14000\n"
     ]
    }
   ],
   "source": [
    "import numpy as np\n",
    "import matplotlib.pyplot as plt\n",
    "from sklearn.cluster import DBSCAN\n",
    "from sklearn.decomposition import PCA\n",
    "from sklearn.preprocessing import StandardScaler\n",
    "from sklearn.datasets import fetch_openml\n",
    "\n",
    "# Step 1: Load the Fashion-MNIST dataset\n",
    "fashion_mnist = fetch_openml(name='Fashion-MNIST')\n",
    "\n",
    "X_train, X_test, y_train, y_test = train_test_split(fashion_mnist.data, fashion_mnist.target, test_size=0.8, stratify=fashion_mnist.target, random_state=42)\n",
    "\n",
    "X = X_train\n",
    "y = y_train\n",
    "\n",
    "# Step 2: Preprocess the data\n",
    "scaler = StandardScaler()\n",
    "X_scaled = scaler.fit_transform(X)\n",
    "\n",
    "# Step 3: Apply PCA for dimensionality reduction\n",
    "pca = PCA(n_components=2)\n",
    "X_pca = pca.fit_transform(X_scaled)\n",
    "\n",
    "# Step 4: Apply DBSCAN\n",
    "dbscan = DBSCAN(eps=0.5, min_samples=5)\n",
    "dbscan.fit(X_scaled)\n",
    "\n",
    "labels = dbscan.labels_\n",
    "\n",
    "# Step 5: Visualize the clusters\n",
    "plt.scatter(X_pca[:, 0], X_pca[:, 1], c=labels, cmap='viridis')\n",
    "plt.title('DBSCAN Clustering of Fashion-MNIST Dataset')\n",
    "plt.xlabel('Principal Component 1')\n",
    "plt.ylabel('Principal Component 2')\n",
    "plt.colorbar()\n",
    "plt.show()\n",
    "\n",
    "# Step 6: Evaluate the clustering results\n",
    "n_clusters = len(set(labels)) - (1 if -1 in labels else 0)\n",
    "n_noise = list(labels).count(-1)\n",
    "\n",
    "print(\"Number of clusters:\", n_clusters)\n",
    "print(\"Number of noise points:\", n_noise)\n"
   ]
  },
  {
   "cell_type": "code",
   "execution_count": null,
   "metadata": {},
   "outputs": [],
   "source": []
  }
 ],
 "metadata": {
  "kernelspec": {
   "display_name": "base",
   "language": "python",
   "name": "python3"
  },
  "language_info": {
   "codemirror_mode": {
    "name": "ipython",
    "version": 3
   },
   "file_extension": ".py",
   "mimetype": "text/x-python",
   "name": "python",
   "nbconvert_exporter": "python",
   "pygments_lexer": "ipython3",
   "version": "3.10.9"
  },
  "orig_nbformat": 4
 },
 "nbformat": 4,
 "nbformat_minor": 2
}
