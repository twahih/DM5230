{
 "cells": [
  {
   "cell_type": "code",
   "execution_count": 109,
   "metadata": {},
   "outputs": [],
   "source": [
    "import pandas as pd\n",
    "from matplotlib import pyplot as plt\n",
    "import numpy as np"
   ]
  },
  {
   "cell_type": "code",
   "execution_count": 110,
   "metadata": {},
   "outputs": [],
   "source": [
    "df = pd.read_csv('dbscan.csv')\n",
    "\n",
    "df.columns\n",
    "\n",
    "X = df[['x', 'y']].to_numpy()"
   ]
  },
  {
   "cell_type": "code",
   "execution_count": 111,
   "metadata": {},
   "outputs": [],
   "source": [
    "x = df.x\n",
    "y = df.y"
   ]
  },
  {
   "cell_type": "code",
   "execution_count": 112,
   "metadata": {},
   "outputs": [
    {
     "data": {
      "image/png": "[encoded data removed]",
      "text/plain": [
       "<Figure size 640x480 with 1 Axes>"
      ]
     },
     "metadata": {},
     "output_type": "display_data"
    }
   ],
   "source": [
    "plt.scatter(x, y)\n",
    "# Add labels to x and y axes\n",
    "plt.xlabel('X-axis')\n",
    "plt.ylabel('Y-axis')\n",
    "\n",
    "# Add a title to the plot\n",
    "plt.title('Scatter Plot')\n",
    "\n",
    "# Show the plot\n",
    "plt.show()"
   ]
  },
  {
   "cell_type": "code",
   "execution_count": 113,
   "metadata": {},
   "outputs": [
    {
     "data": {
      "text/plain": [
       "array([[ 5.14180890e+01,  1.35936103e+01],\n",
       "       [ 3.91323184e+01, -4.41920442e+00],\n",
       "       [ 4.78075151e+01, -2.58225605e+01],\n",
       "       [ 2.76997029e+01,  5.34341931e+01],\n",
       "       [ 3.98609948e+01,  5.67687090e+00],\n",
       "       [-1.98918593e+01,  1.04102738e+01],\n",
       "       [-5.02825323e-02, -4.03252228e+00],\n",
       "       [ 1.85625119e+01, -2.86549799e+01],\n",
       "       [-1.46299037e+01, -4.88704016e+00],\n",
       "       [ 3.87438810e+01,  4.04002901e+01],\n",
       "       [-1.94214743e+01, -2.08810425e+01],\n",
       "       [-9.11455701e+00, -5.25181929e+00],\n",
       "       [ 4.00535220e+01, -2.03351032e+01],\n",
       "       [ 4.43200188e+01, -3.87076675e+01],\n",
       "       [-5.71713996e+00, -5.06161251e+00],\n",
       "       [ 4.93300097e+01, -1.77116706e+01],\n",
       "       [ 1.02030453e+01,  1.96519021e+01],\n",
       "       [ 7.28819131e+00, -7.04286018e+00],\n",
       "       [-5.04723219e+01, -3.40220016e+01],\n",
       "       [-1.99817820e+01,  2.08916173e+01],\n",
       "       [ 9.29823006e+00, -5.66296243e+00],\n",
       "       [ 2.76456461e+01,  1.60435321e+01],\n",
       "       [-2.31475796e+01, -2.50897082e+01],\n",
       "       [-3.65343340e+01,  2.64355209e+01],\n",
       "       [-2.21619830e+01,  5.99108016e+01],\n",
       "       [-9.04684674e+00,  2.00639724e+01],\n",
       "       [-5.73131931e+00,  1.99508970e+01],\n",
       "       [ 4.97081824e+01,  1.10137863e+01],\n",
       "       [ 3.97714805e+01, -1.47891647e+01],\n",
       "       [ 5.51504466e+00,  2.07456977e+01],\n",
       "       [ 2.08350343e+01,  5.36380318e-02],\n",
       "       [ 1.92940751e+01,  1.41422943e+01],\n",
       "       [-1.90112607e+01,  2.17002109e+00],\n",
       "       [ 3.86387219e+01,  3.56003185e+01],\n",
       "       [ 8.00140063e-01,  1.99402888e+01],\n",
       "       [ 4.48686711e+01,  5.22111724e+01],\n",
       "       [ 1.28193894e+01,  3.45856632e+01],\n",
       "       [ 1.94512262e+01, -1.09516518e+01],\n",
       "       [ 1.56786239e+01, -5.30736560e+00],\n",
       "       [-1.99996461e+01, -1.49226878e+01],\n",
       "       [ 4.04121448e+01, -9.97133771e+00],\n",
       "       [-3.18936352e+01, -3.59055578e+01],\n",
       "       [ 5.95652208e+00, -5.79427224e+00],\n",
       "       [-5.34612493e+01,  1.45898424e+01],\n",
       "       [-1.12796683e+01, -4.02493925e+01],\n",
       "       [ 1.97923628e+01, -4.84986662e+00],\n",
       "       [ 4.84406862e+00,  2.33560516e+01],\n",
       "       [ 2.09216812e+01, -2.05203941e+01],\n",
       "       [ 1.42921533e+01,  2.03436209e+01],\n",
       "       [ 1.93948686e+01,  1.00069156e+01],\n",
       "       [-2.48518697e+01, -1.04620045e+01],\n",
       "       [ 4.37155338e+01, -4.17138593e+01],\n",
       "       [ 1.93479960e+01,  4.59638321e+00],\n",
       "       [ 2.08687225e+01, -1.52687797e+01],\n",
       "       [-1.42951891e+01,  2.00280763e+01],\n",
       "       [-3.77252982e+01,  4.49419165e+01],\n",
       "       [ 4.04552487e+01,  1.01302569e+01],\n",
       "       [-1.58279130e+00,  3.08001373e+01],\n",
       "       [-2.68932446e+01,  5.12863564e+01],\n",
       "       [-5.38881007e+01,  1.06909506e+01],\n",
       "       [-2.06470902e+01, -5.92578450e+00],\n",
       "       [-8.45706433e+00, -2.00170520e+01],\n",
       "       [ 4.05941680e+01,  5.18513168e+01],\n",
       "       [-2.05062321e+01, -5.06620478e+00],\n",
       "       [ 1.31539315e+01,  5.15333580e+00],\n",
       "       [ 1.25320228e+01, -4.48649960e+01],\n",
       "       [ 4.06052396e+01,  1.55898959e+01],\n",
       "       [-1.06122696e+01,  1.28828165e+01],\n",
       "       [-2.04494422e+01, -1.08141094e+01],\n",
       "       [-2.17355114e+01,  2.64184201e+00],\n",
       "       [-1.95925546e+01,  4.31365252e+00],\n",
       "       [-2.05774110e+01, -2.03990030e+01],\n",
       "       [-2.07927458e+01, -6.36223150e-01],\n",
       "       [ 1.39221998e+01, -5.39073995e+01],\n",
       "       [-1.96152467e+01,  1.57555532e+01],\n",
       "       [ 3.96590473e+01,  2.30178013e-01],\n",
       "       [ 2.63664907e+01,  8.79882612e+00],\n",
       "       [-3.61840598e+01,  4.42920448e+01],\n",
       "       [ 4.40120847e+01,  3.77294776e+01],\n",
       "       [-1.39323393e+00, -5.52939428e+01]])"
      ]
     },
     "execution_count": 113,
     "metadata": {},
     "output_type": "execute_result"
    }
   ],
   "source": [
    "X"
   ]
  },
  {
   "cell_type": "code",
   "execution_count": 114,
   "metadata": {},
   "outputs": [],
   "source": [
    "import plotly.express as px"
   ]
  },
  {
   "cell_type": "code",
   "execution_count": 115,
   "metadata": {},
   "outputs": [],
   "source": [
    "from scipy.spatial.distance import cdist\n",
    "\n",
    "# Assuming 'data' is your dataset (an array or list of data points)\n",
    "# Calculate the distance matrix using the desired distance metric (e.g., Euclidean distance)\n",
    "distance_matrix = cdist(X, X, metric='euclidean')\n"
   ]
  },
  {
   "cell_type": "code",
   "execution_count": 116,
   "metadata": {},
   "outputs": [
    {
     "data": {
      "text/plain": [
       "array([[  0.        ,  21.80370733,  39.5811921 , ...,  92.8252679 ,\n",
       "         25.24656396,  86.80167508],\n",
       "       [ 21.80370733,   0.        ,  23.09464639, ...,  89.69583393,\n",
       "         42.43021939,  65.0427505 ],\n",
       "       [ 39.5811921 ,  23.09464639,   0.        , ..., 109.41043158,\n",
       "         63.66527192,  57.35221072],\n",
       "       ...,\n",
       "       [ 92.8252679 ,  89.69583393, 109.41043158, ...,   0.        ,\n",
       "         80.46420873, 105.48824806],\n",
       "       [ 25.24656396,  42.43021939,  63.66527192, ...,  80.46420873,\n",
       "          0.        , 103.51328273],\n",
       "       [ 86.80167508,  65.0427505 ,  57.35221072, ..., 105.48824806,\n",
       "        103.51328273,   0.        ]])"
      ]
     },
     "execution_count": 116,
     "metadata": {},
     "output_type": "execute_result"
    }
   ],
   "source": [
    "distance_matrix"
   ]
  },
  {
   "cell_type": "code",
   "execution_count": 135,
   "metadata": {},
   "outputs": [
    {
     "data": {
      "text/plain": [
       "array([ 1.35936103e+01, -4.41920442e+00, -2.58225605e+01,  5.34341931e+01,\n",
       "        5.67687090e+00,  1.04102738e+01, -4.03252228e+00, -2.86549799e+01,\n",
       "       -4.88704016e+00,  4.04002901e+01, -2.08810425e+01, -5.25181929e+00,\n",
       "       -2.03351032e+01, -3.87076675e+01, -5.06161251e+00, -1.77116706e+01,\n",
       "        1.96519021e+01, -7.04286018e+00, -3.40220016e+01,  2.08916173e+01,\n",
       "       -5.66296243e+00,  1.60435321e+01, -2.50897082e+01,  2.64355209e+01,\n",
       "        5.99108016e+01,  2.00639724e+01,  1.99508970e+01,  1.10137863e+01,\n",
       "       -1.47891647e+01,  2.07456977e+01,  5.36380318e-02,  1.41422943e+01,\n",
       "        2.17002109e+00,  3.56003185e+01,  1.99402888e+01,  5.22111724e+01,\n",
       "        3.45856632e+01, -1.09516518e+01, -5.30736560e+00, -1.49226878e+01,\n",
       "       -9.97133771e+00, -3.59055578e+01, -5.79427224e+00,  1.45898424e+01,\n",
       "       -4.02493925e+01, -4.84986662e+00,  2.33560516e+01, -2.05203941e+01,\n",
       "        2.03436209e+01,  1.00069156e+01, -1.04620045e+01, -4.17138593e+01,\n",
       "        4.59638321e+00, -1.52687797e+01,  2.00280763e+01,  4.49419165e+01,\n",
       "        1.01302569e+01,  3.08001373e+01,  5.12863564e+01,  1.06909506e+01,\n",
       "       -5.92578450e+00, -2.00170520e+01,  5.18513168e+01, -5.06620478e+00,\n",
       "        5.15333580e+00, -4.48649960e+01,  1.55898959e+01,  1.28828165e+01,\n",
       "       -1.08141094e+01,  2.64184201e+00,  4.31365252e+00, -2.03990030e+01,\n",
       "       -6.36223150e-01, -5.39073995e+01,  1.57555532e+01,  2.30178013e-01,\n",
       "        8.79882612e+00,  4.42920448e+01,  3.77294776e+01, -5.52939428e+01])"
      ]
     },
     "execution_count": 135,
     "metadata": {},
     "output_type": "execute_result"
    }
   ],
   "source": [
    "X[:,1]"
   ]
  },
  {
   "cell_type": "code",
   "execution_count": 136,
   "metadata": {},
   "outputs": [],
   "source": [
    "import numpy as np\n",
    "\n",
    "def dbscan(X,distance_matrix, epsilon, minPts):\n",
    "    num_points = distance_matrix.shape[0]\n",
    "    visited = np.zeros(num_points, dtype=bool)\n",
    "    labels = np.zeros(num_points, dtype=int)\n",
    "    cluster_label = 0\n",
    "    output = []\n",
    "    point_coordinates = np.array([[x, y] for x in X[:,0] for y in X[:,1]])\n",
    "\n",
    "    for i in range(num_points):\n",
    "        if visited[i]:\n",
    "            continue\n",
    "\n",
    "        visited[i] = True\n",
    "        neighbors = region_query(i, distance_matrix, epsilon)\n",
    "\n",
    "        if len(neighbors) < minPts:\n",
    "            labels[i] = -1\n",
    "        else:\n",
    "            cluster_label += 1\n",
    "            expand_cluster(i, neighbors, cluster_label, visited, labels, distance_matrix, epsilon, minPts)\n",
    "\n",
    "    for i in range(num_points):\n",
    "        neighbor_indices = [str(x) for x in region_query(i, distance_matrix, epsilon)]\n",
    "        output.append([i, point_coordinates[i, 0], point_coordinates[i, 1], len(neighbor_indices), ','.join(neighbor_indices)])\n",
    "\n",
    "    return output\n",
    "\n",
    "\n",
    "def expand_cluster(point_index, neighbors, cluster_label, visited, labels, distance_matrix, epsilon, minPts):\n",
    "    labels[point_index] = cluster_label\n",
    "\n",
    "    while len(neighbors) > 0:\n",
    "        current_point = neighbors[0]\n",
    "        neighbors = neighbors[1:]\n",
    "\n",
    "        if not visited[current_point]:\n",
    "            visited[current_point] = True\n",
    "            current_neighbors = region_query(current_point, distance_matrix, epsilon)\n",
    "\n",
    "            if len(current_neighbors) >= minPts:\n",
    "                neighbors.extend(current_neighbors)\n",
    "\n",
    "        if labels[current_point] == 0:\n",
    "            labels[current_point] = cluster_label\n",
    "\n",
    "\n",
    "def region_query(point_index, distance_matrix, epsilon):\n",
    "    neighbors = []\n",
    "    for i, distance in enumerate(distance_matrix[point_index]):\n",
    "        if distance <= epsilon:\n",
    "            neighbors.append(i)\n",
    "    return neighbors\n"
   ]
  },
  {
   "cell_type": "code",
   "execution_count": 138,
   "metadata": {},
   "outputs": [],
   "source": [
    "results = dbscan(X,distance_matrix,7.5,3)"
   ]
  },
  {
   "cell_type": "code",
   "execution_count": 139,
   "metadata": {},
   "outputs": [
    {
     "data": {
      "text/plain": [
       "[[0, 51.4180890272801, 13.593610291024676, 2, '0,27'],\n",
       " [1, 51.4180890272801, -4.419204415001493, 3, '1,40,75'],\n",
       " [2, 51.4180890272801, -25.822560549769435, 1, '2'],\n",
       " [3, 51.4180890272801, 53.434193065153295, 1, '3'],\n",
       " [4, 51.4180890272801, 5.676870901714278, 3, '4,56,75'],\n",
       " [5, 51.4180890272801, 10.410273811660709, 3, '5,70,74'],\n",
       " [6, 51.4180890272801, -4.032522275625189, 3, '6,14,42'],\n",
       " [7, 51.4180890272801, -28.65497990837755, 1, '7'],\n",
       " [8, 51.4180890272801, -4.887040158034663, 5, '8,11,60,63,72'],\n",
       " [9, 51.4180890272801, 40.400290121056685, 3, '9,33,78'],\n",
       " [10, 51.4180890272801, -20.88104250119114, 4, '10,22,39,71'],\n",
       " [11, 51.4180890272801, -5.251819287270827, 3, '8,11,14'],\n",
       " [12, 51.4180890272801, -20.335103200383447, 2, '12,28'],\n",
       " [13, 51.4180890272801, -38.70766750849579, 2, '13,51'],\n",
       " [14, 51.4180890272801, -5.061612513797467, 3, '6,11,14'],\n",
       " [15, 51.4180890272801, -17.71167061272066, 1, '15'],\n",
       " [16, 51.4180890272801, 19.651902116097983, 4, '16,29,46,48'],\n",
       " [17, 51.4180890272801, -7.042860177149549, 3, '17,20,42'],\n",
       " [18, 51.4180890272801, -34.02200155880386, 1, '18'],\n",
       " [19, 51.4180890272801, 20.891617311323127, 3, '19,54,74'],\n",
       " [20, 51.4180890272801, -5.662962428015969, 4, '17,20,38,42'],\n",
       " [21, 51.4180890272801, 16.043532140144862, 2, '21,76'],\n",
       " [22, 51.4180890272801, -25.08970816444088, 3, '10,22,71'],\n",
       " [23, 51.4180890272801, 26.43552087215339, 1, '23'],\n",
       " [24, 51.4180890272801, 59.91080163505399, 1, '24'],\n",
       " [25, 51.4180890272801, 20.063972403411547, 4, '25,26,54,67'],\n",
       " [26, 51.4180890272801, 19.950897038105676, 3, '25,26,34'],\n",
       " [27, 51.4180890272801, 11.013786302670766, 2, '0,27'],\n",
       " [28, 51.4180890272801, -14.7891646875484, 3, '12,28,40'],\n",
       " [29, 51.4180890272801, 20.74569770327134, 4, '16,29,34,46'],\n",
       " [30, 51.4180890272801, 0.0536380317622169, 4, '30,38,45,52'],\n",
       " [31, 51.4180890272801, 14.142294346791124, 2, '31,49'],\n",
       " [32, 51.4180890272801, 2.1700210896339343, 5, '32,63,69,70,72'],\n",
       " [33, 51.4180890272801, 35.60031846982629, 3, '9,33,78'],\n",
       " [34, 51.4180890272801, 19.940288816880265, 4, '26,29,34,46'],\n",
       " [35, 51.4180890272801, 52.21117243887545, 2, '35,62'],\n",
       " [36, 51.4180890272801, 34.585663163879545, 1, '36'],\n",
       " [37, 51.4180890272801, -10.951651836784633, 4, '37,38,45,53'],\n",
       " [38, 51.4180890272801, -5.307365602222503, 5, '20,30,37,38,45'],\n",
       " [39, 51.4180890272801, -14.92268780370065, 5, '10,39,50,68,71'],\n",
       " [40, 51.4180890272801, -9.97133770660152, 3, '1,28,40'],\n",
       " [41, 51.4180890272801, -35.905557756771955, 1, '41'],\n",
       " [42, 51.4180890272801, -5.794272239838005, 4, '6,17,20,42'],\n",
       " [43, 51.4180890272801, 14.589842352329484, 2, '43,59'],\n",
       " [44, 51.4180890272801, -40.24939246065994, 1, '44'],\n",
       " [45, 51.4180890272801, -4.849866624176975, 4, '30,37,38,45'],\n",
       " [46, 51.4180890272801, 23.35605163470693, 4, '16,29,34,46'],\n",
       " [47, 51.4180890272801, -20.52039413562267, 2, '47,53'],\n",
       " [48, 51.4180890272801, 20.34362091324353, 2, '16,48'],\n",
       " [49, 51.4180890272801, 10.006915553343678, 4, '31,49,52,76'],\n",
       " [50, 51.4180890272801, -10.462004481812158, 5, '39,50,60,63,68'],\n",
       " [51, 51.4180890272801, -41.71385934976746, 2, '13,51'],\n",
       " [52, 51.4180890272801, 4.596383211539877, 4, '30,49,52,64'],\n",
       " [53, 51.4180890272801, -15.268779691870211, 3, '37,47,53'],\n",
       " [54, 51.4180890272801, 20.02807632181326, 4, '19,25,54,74'],\n",
       " [55, 51.4180890272801, 44.94191650142315, 2, '55,77'],\n",
       " [56, 51.4180890272801, 10.130256876933394, 3, '4,56,66'],\n",
       " [57, 51.4180890272801, 30.80013732126129, 1, '57'],\n",
       " [58, 51.4180890272801, 51.28635642222928, 1, '58'],\n",
       " [59, 51.4180890272801, 10.69095057386329, 2, '43,59'],\n",
       " [60, 51.4180890272801, -5.925784499045043, 6, '8,50,60,63,68,72'],\n",
       " [61, 51.4180890272801, -20.01705204598669, 1, '61'],\n",
       " [62, 51.4180890272801, 51.85131677106395, 2, '35,62'],\n",
       " [63, 51.4180890272801, -5.066204776419367, 7, '8,32,50,60,63,68,72'],\n",
       " [64, 51.4180890272801, 5.1533357952679495, 2, '52,64'],\n",
       " [65, 51.4180890272801, -44.86499604430024, 1, '65'],\n",
       " [66, 51.4180890272801, 15.589895889925176, 2, '56,66'],\n",
       " [67, 51.4180890272801, 12.882816547291084, 2, '25,67'],\n",
       " [68, 51.4180890272801, -10.814109370734627, 5, '39,50,60,63,68'],\n",
       " [69, 51.4180890272801, 2.641842009219772, 4, '32,69,70,72'],\n",
       " [70, 51.4180890272801, 4.313652518729349, 5, '5,32,69,70,72'],\n",
       " [71, 51.4180890272801, -20.39900296193844, 4, '10,22,39,71'],\n",
       " [72, 51.4180890272801, -0.6362231502130449, 7, '8,32,60,63,69,70,72'],\n",
       " [73, 51.4180890272801, -53.90739948334448, 1, '73'],\n",
       " [74, 51.4180890272801, 15.755553151747042, 4, '5,19,54,74'],\n",
       " [75, 51.4180890272801, 0.2301780131856834, 3, '1,4,75'],\n",
       " [76, 51.4180890272801, 8.798826124935147, 3, '21,49,76'],\n",
       " [77, 51.4180890272801, 44.2920447885741, 2, '55,77'],\n",
       " [78, 51.4180890272801, 37.72947762746371, 3, '9,33,78'],\n",
       " [79, 51.4180890272801, -55.29394275062961, 1, '79']]"
      ]
     },
     "execution_count": 139,
     "metadata": {},
     "output_type": "execute_result"
    }
   ],
   "source": [
    "results "
   ]
  },
  {
   "cell_type": "code",
   "execution_count": 121,
   "metadata": {},
   "outputs": [
    {
     "data": {
      "application/vnd.plotly.v1+json": {
       "config": {
        "plotlyServerURL": "https://plot.ly"
       },
       "data": [
        {
         "hovertemplate": "x=%{x}<br>y=%{y}<br>color=%{marker.color}<extra></extra>",
         "legendgroup": "",
         "marker": {
          "color": [
           -1,
           1,
           -1,
           -1,
           1,
           2,
           2,
           -1,
           2,
           3,
           2,
           2,
           1,
           -1,
           2,
           -1,
           2,
           2,
           -1,
           2,
           2,
           2,
           2,
           -1,
           -1,
           2,
           2,
           -1,
           1,
           2,
           2,
           2,
           2,
           3,
           2,
           -1,
           -1,
           2,
           2,
           2,
           1,
           -1,
           2,
           -1,
           -1,
           2,
           2,
           2,
           2,
           2,
           2,
           -1,
           2,
           2,
           2,
           -1,
           1,
           -1,
           -1,
           -1,
           2,
           -1,
           -1,
           2,
           2,
           -1,
           1,
           2,
           2,
           2,
           2,
           2,
           2,
           -1,
           2,
           1,
           2,
           -1,
           3,
           -1
          ],
          "coloraxis": "coloraxis",
          "symbol": "circle"
         },
         "mode": "markers",
         "name": "",
         "orientation": "v",
         "showlegend": false,
         "type": "scatter",
         "x": [
          51.4180890272801,
          39.132318399978814,
          47.80751510440953,
          27.699702929141356,
          39.86099481703741,
          -19.89185931646944,
          -0.0502825322555204,
          18.56251189306793,
          -14.629903651637436,
          38.74388097267972,
          -19.42147427164422,
          -9.114557013445014,
          40.05352196800545,
          44.3200188038368,
          -5.717139958397313,
          49.33000973835746,
          10.203045334287584,
          7.288191306453086,
          -50.47232191996444,
          -19.9817819533357,
          9.298230059713504,
          27.645646107177328,
          -23.14757956021088,
          -36.53433397866688,
          -22.161982955372046,
          -9.046846740594296,
          -5.731319312837116,
          49.70818240287954,
          39.77148046684003,
          5.515044660144542,
          20.83503433765769,
          19.294075085492736,
          -19.011260657773533,
          38.63872192402499,
          0.8001400631065849,
          44.86867114344571,
          12.819389423684498,
          19.45122619740321,
          15.678623904953689,
          -19.99964610884355,
          40.4121448261431,
          -31.89363518632371,
          5.956522076912938,
          -53.46124925515884,
          -11.279668321925762,
          19.792362802755328,
          4.84406861553218,
          20.921681165676414,
          14.292153290252063,
          19.394868576109165,
          -24.85186968652136,
          43.71553375876904,
          19.34799598981976,
          20.86872252666121,
          -14.295189099452454,
          -37.72529820900698,
          40.455248729212926,
          -1.582791301590461,
          -26.8932446498738,
          -53.888100692192445,
          -20.64709016777238,
          -8.45706433401795,
          40.59416796799729,
          -20.50623206209242,
          13.15393146087726,
          12.532022763975476,
          40.60523955401428,
          -10.612269590582258,
          -20.449442217435134,
          -21.735511424832133,
          -19.592554561841,
          -20.577410981618357,
          -20.792745819757705,
          13.922199754203971,
          -19.615246666653395,
          39.65904730747222,
          26.366490695143767,
          -36.18405980734306,
          44.01208473554805,
          -1.3932339341155997
         ],
         "xaxis": "x",
         "y": [
          13.593610291024676,
          -4.419204415001493,
          -25.822560549769435,
          53.434193065153295,
          5.676870901714278,
          10.410273811660709,
          -4.032522275625189,
          -28.65497990837755,
          -4.887040158034663,
          40.400290121056685,
          -20.88104250119114,
          -5.251819287270827,
          -20.335103200383447,
          -38.70766750849579,
          -5.061612513797467,
          -17.71167061272066,
          19.651902116097983,
          -7.042860177149549,
          -34.02200155880386,
          20.891617311323127,
          -5.662962428015969,
          16.043532140144862,
          -25.08970816444088,
          26.43552087215339,
          59.91080163505399,
          20.063972403411547,
          19.950897038105676,
          11.013786302670766,
          -14.7891646875484,
          20.74569770327134,
          0.0536380317622169,
          14.142294346791124,
          2.1700210896339343,
          35.60031846982629,
          19.940288816880265,
          52.21117243887545,
          34.585663163879545,
          -10.951651836784633,
          -5.307365602222503,
          -14.92268780370065,
          -9.97133770660152,
          -35.905557756771955,
          -5.794272239838005,
          14.589842352329484,
          -40.24939246065994,
          -4.849866624176975,
          23.35605163470693,
          -20.52039413562267,
          20.34362091324353,
          10.006915553343678,
          -10.462004481812158,
          -41.71385934976746,
          4.596383211539877,
          -15.268779691870211,
          20.02807632181326,
          44.94191650142315,
          10.130256876933394,
          30.80013732126129,
          51.28635642222928,
          10.69095057386329,
          -5.925784499045043,
          -20.01705204598669,
          51.85131677106395,
          -5.066204776419367,
          5.1533357952679495,
          -44.86499604430024,
          15.589895889925176,
          12.882816547291084,
          -10.814109370734627,
          2.641842009219772,
          4.313652518729349,
          -20.39900296193844,
          -0.6362231502130449,
          -53.90739948334448,
          15.755553151747042,
          0.2301780131856834,
          8.798826124935147,
          44.2920447885741,
          37.72947762746371,
          -55.29394275062961
         ],
         "yaxis": "y"
        }
       ],
       "layout": {
        "coloraxis": {
         "colorbar": {
          "title": {
           "text": "color"
          }
         },
         "colorscale": [
          [
           0,
           "#0d0887"
          ],
          [
           0.1111111111111111,
           "#46039f"
          ],
          [
           0.2222222222222222,
           "#7201a8"
          ],
          [
           0.3333333333333333,
           "#9c179e"
          ],
          [
           0.4444444444444444,
           "#bd3786"
          ],
          [
           0.5555555555555556,
           "#d8576b"
          ],
          [
           0.6666666666666666,
           "#ed7953"
          ],
          [
           0.7777777777777778,
           "#fb9f3a"
          ],
          [
           0.8888888888888888,
           "#fdca26"
          ],
          [
           1,
           "#f0f921"
          ]
         ]
        },
        "legend": {
         "tracegroupgap": 0
        },
        "margin": {
         "t": 60
        },
        "template": {
         "data": {
          "bar": [
           {
            "error_x": {
             "color": "#2a3f5f"
            },
            "error_y": {
             "color": "#2a3f5f"
            },
            "marker": {
             "line": {
              "color": "#E5ECF6",
              "width": 0.5
             },
             "pattern": {
              "fillmode": "overlay",
              "size": 10,
              "solidity": 0.2
             }
            },
            "type": "bar"
           }
          ],
          "barpolar": [
           {
            "marker": {
             "line": {
              "color": "#E5ECF6",
              "width": 0.5
             },
             "pattern": {
              "fillmode": "overlay",
              "size": 10,
              "solidity": 0.2
             }
            },
            "type": "barpolar"
           }
          ],
          "carpet": [
           {
            "aaxis": {
             "endlinecolor": "#2a3f5f",
             "gridcolor": "white",
             "linecolor": "white",
             "minorgridcolor": "white",
             "startlinecolor": "#2a3f5f"
            },
            "baxis": {
             "endlinecolor": "#2a3f5f",
             "gridcolor": "white",
             "linecolor": "white",
             "minorgridcolor": "white",
             "startlinecolor": "#2a3f5f"
            },
            "type": "carpet"
           }
          ],
          "choropleth": [
           {
            "colorbar": {
             "outlinewidth": 0,
             "ticks": ""
            },
            "type": "choropleth"
           }
          ],
          "contour": [
           {
            "colorbar": {
             "outlinewidth": 0,
             "ticks": ""
            },
            "colorscale": [
             [
              0,
              "#0d0887"
             ],
             [
              0.1111111111111111,
              "#46039f"
             ],
             [
              0.2222222222222222,
              "#7201a8"
             ],
             [
              0.3333333333333333,
              "#9c179e"
             ],
             [
              0.4444444444444444,
              "#bd3786"
             ],
             [
              0.5555555555555556,
              "#d8576b"
             ],
             [
              0.6666666666666666,
              "#ed7953"
             ],
             [
              0.7777777777777778,
              "#fb9f3a"
             ],
             [
              0.8888888888888888,
              "#fdca26"
             ],
             [
              1,
              "#f0f921"
             ]
            ],
            "type": "contour"
           }
          ],
          "contourcarpet": [
           {
            "colorbar": {
             "outlinewidth": 0,
             "ticks": ""
            },
            "type": "contourcarpet"
           }
          ],
          "heatmap": [
           {
            "colorbar": {
             "outlinewidth": 0,
             "ticks": ""
            },
            "colorscale": [
             [
              0,
              "#0d0887"
             ],
             [
              0.1111111111111111,
              "#46039f"
             ],
             [
              0.2222222222222222,
              "#7201a8"
             ],
             [
              0.3333333333333333,
              "#9c179e"
             ],
             [
              0.4444444444444444,
              "#bd3786"
             ],
             [
              0.5555555555555556,
              "#d8576b"
             ],
             [
              0.6666666666666666,
              "#ed7953"
             ],
             [
              0.7777777777777778,
              "#fb9f3a"
             ],
             [
              0.8888888888888888,
              "#fdca26"
             ],
             [
              1,
              "#f0f921"
             ]
            ],
            "type": "heatmap"
           }
          ],
          "heatmapgl": [
           {
            "colorbar": {
             "outlinewidth": 0,
             "ticks": ""
            },
            "colorscale": [
             [
              0,
              "#0d0887"
             ],
             [
              0.1111111111111111,
              "#46039f"
             ],
             [
              0.2222222222222222,
              "#7201a8"
             ],
             [
              0.3333333333333333,
              "#9c179e"
             ],
             [
              0.4444444444444444,
              "#bd3786"
             ],
             [
              0.5555555555555556,
              "#d8576b"
             ],
             [
              0.6666666666666666,
              "#ed7953"
             ],
             [
              0.7777777777777778,
              "#fb9f3a"
             ],
             [
              0.8888888888888888,
              "#fdca26"
             ],
             [
              1,
              "#f0f921"
             ]
            ],
            "type": "heatmapgl"
           }
          ],
          "histogram": [
           {
            "marker": {
             "pattern": {
              "fillmode": "overlay",
              "size": 10,
              "solidity": 0.2
             }
            },
            "type": "histogram"
           }
          ],
          "histogram2d": [
           {
            "colorbar": {
             "outlinewidth": 0,
             "ticks": ""
            },
            "colorscale": [
             [
              0,
              "#0d0887"
             ],
             [
              0.1111111111111111,
              "#46039f"
             ],
             [
              0.2222222222222222,
              "#7201a8"
             ],
             [
              0.3333333333333333,
              "#9c179e"
             ],
             [
              0.4444444444444444,
              "#bd3786"
             ],
             [
              0.5555555555555556,
              "#d8576b"
             ],
             [
              0.6666666666666666,
              "#ed7953"
             ],
             [
              0.7777777777777778,
              "#fb9f3a"
             ],
             [
              0.8888888888888888,
              "#fdca26"
             ],
             [
              1,
              "#f0f921"
             ]
            ],
            "type": "histogram2d"
           }
          ],
          "histogram2dcontour": [
           {
            "colorbar": {
             "outlinewidth": 0,
             "ticks": ""
            },
            "colorscale": [
             [
              0,
              "#0d0887"
             ],
             [
              0.1111111111111111,
              "#46039f"
             ],
             [
              0.2222222222222222,
              "#7201a8"
             ],
             [
              0.3333333333333333,
              "#9c179e"
             ],
             [
              0.4444444444444444,
              "#bd3786"
             ],
             [
              0.5555555555555556,
              "#d8576b"
             ],
             [
              0.6666666666666666,
              "#ed7953"
             ],
             [
              0.7777777777777778,
              "#fb9f3a"
             ],
             [
              0.8888888888888888,
              "#fdca26"
             ],
             [
              1,
              "#f0f921"
             ]
            ],
            "type": "histogram2dcontour"
           }
          ],
          "mesh3d": [
           {
            "colorbar": {
             "outlinewidth": 0,
             "ticks": ""
            },
            "type": "mesh3d"
           }
          ],
          "parcoords": [
           {
            "line": {
             "colorbar": {
              "outlinewidth": 0,
              "ticks": ""
             }
            },
            "type": "parcoords"
           }
          ],
          "pie": [
           {
            "automargin": true,
            "type": "pie"
           }
          ],
          "scatter": [
           {
            "fillpattern": {
             "fillmode": "overlay",
             "size": 10,
             "solidity": 0.2
            },
            "type": "scatter"
           }
          ],
          "scatter3d": [
           {
            "line": {
             "colorbar": {
              "outlinewidth": 0,
              "ticks": ""
             }
            },
            "marker": {
             "colorbar": {
              "outlinewidth": 0,
              "ticks": ""
             }
            },
            "type": "scatter3d"
           }
          ],
          "scattercarpet": [
           {
            "marker": {
             "colorbar": {
              "outlinewidth": 0,
              "ticks": ""
             }
            },
            "type": "scattercarpet"
           }
          ],
          "scattergeo": [
           {
            "marker": {
             "colorbar": {
              "outlinewidth": 0,
              "ticks": ""
             }
            },
            "type": "scattergeo"
           }
          ],
          "scattergl": [
           {
            "marker": {
             "colorbar": {
              "outlinewidth": 0,
              "ticks": ""
             }
            },
            "type": "scattergl"
           }
          ],
          "scattermapbox": [
           {
            "marker": {
             "colorbar": {
              "outlinewidth": 0,
              "ticks": ""
             }
            },
            "type": "scattermapbox"
           }
          ],
          "scatterpolar": [
           {
            "marker": {
             "colorbar": {
              "outlinewidth": 0,
              "ticks": ""
             }
            },
            "type": "scatterpolar"
           }
          ],
          "scatterpolargl": [
           {
            "marker": {
             "colorbar": {
              "outlinewidth": 0,
              "ticks": ""
             }
            },
            "type": "scatterpolargl"
           }
          ],
          "scatterternary": [
           {
            "marker": {
             "colorbar": {
              "outlinewidth": 0,
              "ticks": ""
             }
            },
            "type": "scatterternary"
           }
          ],
          "surface": [
           {
            "colorbar": {
             "outlinewidth": 0,
             "ticks": ""
            },
            "colorscale": [
             [
              0,
              "#0d0887"
             ],
             [
              0.1111111111111111,
              "#46039f"
             ],
             [
              0.2222222222222222,
              "#7201a8"
             ],
             [
              0.3333333333333333,
              "#9c179e"
             ],
             [
              0.4444444444444444,
              "#bd3786"
             ],
             [
              0.5555555555555556,
              "#d8576b"
             ],
             [
              0.6666666666666666,
              "#ed7953"
             ],
             [
              0.7777777777777778,
              "#fb9f3a"
             ],
             [
              0.8888888888888888,
              "#fdca26"
             ],
             [
              1,
              "#f0f921"
             ]
            ],
            "type": "surface"
           }
          ],
          "table": [
           {
            "cells": {
             "fill": {
              "color": "#EBF0F8"
             },
             "line": {
              "color": "white"
             }
            },
            "header": {
             "fill": {
              "color": "#C8D4E3"
             },
             "line": {
              "color": "white"
             }
            },
            "type": "table"
           }
          ]
         },
         "layout": {
          "annotationdefaults": {
           "arrowcolor": "#2a3f5f",
           "arrowhead": 0,
           "arrowwidth": 1
          },
          "autotypenumbers": "strict",
          "coloraxis": {
           "colorbar": {
            "outlinewidth": 0,
            "ticks": ""
           }
          },
          "colorscale": {
           "diverging": [
            [
             0,
             "#8e0152"
            ],
            [
             0.1,
             "#c51b7d"
            ],
            [
             0.2,
             "#de77ae"
            ],
            [
             0.3,
             "#f1b6da"
            ],
            [
             0.4,
             "#fde0ef"
            ],
            [
             0.5,
             "#f7f7f7"
            ],
            [
             0.6,
             "#e6f5d0"
            ],
            [
             0.7,
             "#b8e186"
            ],
            [
             0.8,
             "#7fbc41"
            ],
            [
             0.9,
             "#4d9221"
            ],
            [
             1,
             "#276419"
            ]
           ],
           "sequential": [
            [
             0,
             "#0d0887"
            ],
            [
             0.1111111111111111,
             "#46039f"
            ],
            [
             0.2222222222222222,
             "#7201a8"
            ],
            [
             0.3333333333333333,
             "#9c179e"
            ],
            [
             0.4444444444444444,
             "#bd3786"
            ],
            [
             0.5555555555555556,
             "#d8576b"
            ],
            [
             0.6666666666666666,
             "#ed7953"
            ],
            [
             0.7777777777777778,
             "#fb9f3a"
            ],
            [
             0.8888888888888888,
             "#fdca26"
            ],
            [
             1,
             "#f0f921"
            ]
           ],
           "sequentialminus": [
            [
             0,
             "#0d0887"
            ],
            [
             0.1111111111111111,
             "#46039f"
            ],
            [
             0.2222222222222222,
             "#7201a8"
            ],
            [
             0.3333333333333333,
             "#9c179e"
            ],
            [
             0.4444444444444444,
             "#bd3786"
            ],
            [
             0.5555555555555556,
             "#d8576b"
            ],
            [
             0.6666666666666666,
             "#ed7953"
            ],
            [
             0.7777777777777778,
             "#fb9f3a"
            ],
            [
             0.8888888888888888,
             "#fdca26"
            ],
            [
             1,
             "#f0f921"
            ]
           ]
          },
          "colorway": [
           "#636efa",
           "#EF553B",
           "#00cc96",
           "#ab63fa",
           "#FFA15A",
           "#19d3f3",
           "#FF6692",
           "#B6E880",
           "#FF97FF",
           "#FECB52"
          ],
          "font": {
           "color": "#2a3f5f"
          },
          "geo": {
           "bgcolor": "white",
           "lakecolor": "white",
           "landcolor": "#E5ECF6",
           "showlakes": true,
           "showland": true,
           "subunitcolor": "white"
          },
          "hoverlabel": {
           "align": "left"
          },
          "hovermode": "closest",
          "mapbox": {
           "style": "light"
          },
          "paper_bgcolor": "white",
          "plot_bgcolor": "#E5ECF6",
          "polar": {
           "angularaxis": {
            "gridcolor": "white",
            "linecolor": "white",
            "ticks": ""
           },
           "bgcolor": "#E5ECF6",
           "radialaxis": {
            "gridcolor": "white",
            "linecolor": "white",
            "ticks": ""
           }
          },
          "scene": {
           "xaxis": {
            "backgroundcolor": "#E5ECF6",
            "gridcolor": "white",
            "gridwidth": 2,
            "linecolor": "white",
            "showbackground": true,
            "ticks": "",
            "zerolinecolor": "white"
           },
           "yaxis": {
            "backgroundcolor": "#E5ECF6",
            "gridcolor": "white",
            "gridwidth": 2,
            "linecolor": "white",
            "showbackground": true,
            "ticks": "",
            "zerolinecolor": "white"
           },
           "zaxis": {
            "backgroundcolor": "#E5ECF6",
            "gridcolor": "white",
            "gridwidth": 2,
            "linecolor": "white",
            "showbackground": true,
            "ticks": "",
            "zerolinecolor": "white"
           }
          },
          "shapedefaults": {
           "line": {
            "color": "#2a3f5f"
           }
          },
          "ternary": {
           "aaxis": {
            "gridcolor": "white",
            "linecolor": "white",
            "ticks": ""
           },
           "baxis": {
            "gridcolor": "white",
            "linecolor": "white",
            "ticks": ""
           },
           "bgcolor": "#E5ECF6",
           "caxis": {
            "gridcolor": "white",
            "linecolor": "white",
            "ticks": ""
           }
          },
          "title": {
           "x": 0.05
          },
          "xaxis": {
           "automargin": true,
           "gridcolor": "white",
           "linecolor": "white",
           "ticks": "",
           "title": {
            "standoff": 15
           },
           "zerolinecolor": "white",
           "zerolinewidth": 2
          },
          "yaxis": {
           "automargin": true,
           "gridcolor": "white",
           "linecolor": "white",
           "ticks": "",
           "title": {
            "standoff": 15
           },
           "zerolinecolor": "white",
           "zerolinewidth": 2
          }
         }
        },
        "xaxis": {
         "anchor": "y",
         "domain": [
          0,
          1
         ],
         "title": {
          "text": "x"
         }
        },
        "yaxis": {
         "anchor": "x",
         "domain": [
          0,
          1
         ],
         "title": {
          "text": "y"
         }
        }
       }
      }
     },
     "metadata": {},
     "output_type": "display_data"
    }
   ],
   "source": [
    "px.scatter(x=x, y=y,color = label)\n"
   ]
  },
  {
   "cell_type": "code",
   "execution_count": 122,
   "metadata": {},
   "outputs": [
    {
     "data": {
      "text/plain": [
       "array([-1,  1, -1, -1,  1,  2,  2, -1,  2,  3,  2,  2,  1, -1,  2, -1,  2,\n",
       "        2, -1,  2,  2,  2,  2, -1, -1,  2,  2, -1,  1,  2,  2,  2,  2,  3,\n",
       "        2, -1, -1,  2,  2,  2,  1, -1,  2, -1, -1,  2,  2,  2,  2,  2,  2,\n",
       "       -1,  2,  2,  2, -1,  1, -1, -1, -1,  2, -1, -1,  2,  2, -1,  1,  2,\n",
       "        2,  2,  2,  2,  2, -1,  2,  1,  2, -1,  3, -1])"
      ]
     },
     "execution_count": 122,
     "metadata": {},
     "output_type": "execute_result"
    }
   ],
   "source": [
    "label"
   ]
  }
 ],
 "metadata": {
  "kernelspec": {
   "display_name": "base",
   "language": "python",
   "name": "python3"
  },
  "language_info": {
   "codemirror_mode": {
    "name": "ipython",
    "version": 3
   },
   "file_extension": ".py",
   "mimetype": "text/x-python",
   "name": "python",
   "nbconvert_exporter": "python",
   "pygments_lexer": "ipython3",
   "version": "3.10.9"
  },
  "orig_nbformat": 4
 },
 "nbformat": 4,
 "nbformat_minor": 2
}
