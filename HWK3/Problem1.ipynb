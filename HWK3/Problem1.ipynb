{
 "cells": [
  {
   "attachments": {},
   "cell_type": "markdown",
   "metadata": {},
   "source": [
    "## PROBLEM 5: DBSCAN on toy-neighborhood data\n",
    "\n",
    "You are to cluster and visualize a small dataset using DBSCAN with epsilon = 7.5 and MinPts = 3. The dataset is provided in the file `dbscan.csv`, which contains the following columns for each data point:\n",
    "\n",
    "- `cluster`: Initially empty, provided for convenience.\n",
    "- `pt`: Unique ID for each data point.\n",
    "- `x`: Point's x-coordinate.\n",
    "- `y`: Point's y-coordinate.\n",
    "- `num neighbors`: Number of neighbors, according to the coordinates above.\n",
    "- `neighbors`: IDs of all neighbors within the epsilon radius.\n",
    "\n",
    "As you can see, a tedious O(n^2) portion of the work has already been done for you. Your job is to execute the DBSCAN algorithm point-by-point, logging your work.\n"
   ]
  },
  {
   "cell_type": "code",
   "execution_count": 149,
   "metadata": {},
   "outputs": [],
   "source": [
    "import pandas as pd\n",
    "from matplotlib import pyplot as plt\n",
    "import numpy as np\n",
    "import plotly.express as px"
   ]
  },
  {
   "cell_type": "code",
   "execution_count": 150,
   "metadata": {},
   "outputs": [],
   "source": [
    "df = pd.read_csv('dbscan.csv')\n",
    "X = df[['x', 'y']].to_numpy()"
   ]
  },
  {
   "cell_type": "code",
   "execution_count": 152,
   "metadata": {},
   "outputs": [],
   "source": [
    "import numpy as np\n",
    "import pandas as pd\n",
    "\n",
    "\n",
    "class DBSCAN:\n",
    "    def __init__(self, epsilon, minPts):\n",
    "        self.epsilon = epsilon\n",
    "        self.minPts = minPts\n",
    "        self.labels = None\n",
    "        self.data_frame = None\n",
    "\n",
    "    def fit(self, X, distance_matrix):\n",
    "        num_points = distance_matrix.shape[0]\n",
    "        visited = np.zeros(num_points, dtype=bool)\n",
    "        self.labels = np.zeros(num_points, dtype=int)\n",
    "        cluster_label = 0\n",
    "        output = []\n",
    "        point_coordinates = np.array([[x, y] for x, y in zip(X[:, 0], X[:, 1])])\n",
    "\n",
    "        for i in range(num_points):\n",
    "            if visited[i]:\n",
    "                continue\n",
    "\n",
    "            visited[i] = True\n",
    "            neighbors = self.region_query(i, distance_matrix)\n",
    "\n",
    "            if len(neighbors) < self.minPts:\n",
    "                self.labels[i] = -1\n",
    "            else:\n",
    "                cluster_label += 1\n",
    "                self.expand_cluster(i, neighbors, cluster_label, visited, distance_matrix)\n",
    "\n",
    "        for i in range(num_points):\n",
    "            neighbor_indices = [str(x) for x in self.region_query(i, distance_matrix)]\n",
    "            output.append([i, point_coordinates[i, 0], point_coordinates[i, 1], len(neighbor_indices), ','.join(neighbor_indices)])\n",
    "\n",
    "        self.data_frame = pd.DataFrame(output, columns=[\"pt\", \"x\", \"y\", \"num_neighbors\", \"neighbors\"])\n",
    "\n",
    "    def expand_cluster(self, point_index, neighbors, cluster_label, visited, distance_matrix):\n",
    "        self.labels[point_index] = cluster_label\n",
    "\n",
    "        while len(neighbors) > 0:\n",
    "            current_point = neighbors[0]\n",
    "            neighbors = neighbors[1:]\n",
    "\n",
    "            if not visited[current_point]:\n",
    "                visited[current_point] = True\n",
    "                current_neighbors = self.region_query(current_point, distance_matrix)\n",
    "\n",
    "                if len(current_neighbors) >= self.minPts:\n",
    "                    neighbors.extend(current_neighbors)\n",
    "\n",
    "            if self.labels[current_point] == 0:\n",
    "                self.labels[current_point] = cluster_label\n",
    "\n",
    "    def region_query(self, point_index, distance_matrix):\n",
    "        neighbors = []\n",
    "        for i, distance in enumerate(distance_matrix[point_index]):\n",
    "            if distance <= self.epsilon:\n",
    "                neighbors.append(i)\n",
    "        return neighbors"
   ]
  },
  {
   "cell_type": "code",
   "execution_count": 153,
   "metadata": {},
   "outputs": [],
   "source": [
    "from scipy.spatial.distance import cdist\n",
    "\n",
    "# Calculate the distance matrix using the desired distance metric \n",
    "distance_matrix = cdist(X, X, metric='euclidean')\n"
   ]
  },
  {
   "cell_type": "code",
   "execution_count": 154,
   "metadata": {},
   "outputs": [
    {
     "data": {
      "text/plain": [
       "(80, 80)"
      ]
     },
     "execution_count": 154,
     "metadata": {},
     "output_type": "execute_result"
    }
   ],
   "source": [
    "distance_matrix.shape"
   ]
  },
  {
   "cell_type": "code",
   "execution_count": 156,
   "metadata": {},
   "outputs": [
    {
     "name": "stdout",
     "output_type": "stream",
     "text": [
      "Labels: [-1  1 -1 -1  1  2  2 -1  2  3  2  2  1 -1  2 -1  2  2 -1  2  2  2  2 -1\n",
      " -1  2  2 -1  1  2  2  2  2  3  2 -1 -1  2  2  2  1 -1  2 -1 -1  2  2  2\n",
      "  2  2  2 -1  2  2  2 -1  1 -1 -1 -1  2 -1 -1  2  2 -1  1  2  2  2  2  2\n",
      "  2 -1  2  1  2 -1  3 -1]\n",
      "Data Frame:\n",
      "    pt          x          y  num_neighbors neighbors\n",
      "0    0  51.418089  13.593610              2      0,27\n",
      "1    1  39.132318  -4.419204              3   1,40,75\n",
      "2    2  47.807515 -25.822561              1         2\n",
      "3    3  27.699703  53.434193              1         3\n",
      "4    4  39.860995   5.676871              3   4,56,75\n",
      "..  ..        ...        ...            ...       ...\n",
      "75  75  39.659047   0.230178              3    1,4,75\n",
      "76  76  26.366491   8.798826              3  21,49,76\n",
      "77  77 -36.184060  44.292045              2     55,77\n",
      "78  78  44.012085  37.729478              3   9,33,78\n",
      "79  79  -1.393234 -55.293943              1        79\n",
      "\n",
      "[80 rows x 5 columns]\n"
     ]
    }
   ],
   "source": [
    "# initializing the the model\n",
    "dbscan = DBSCAN(epsilon=7.5, minPts=3)\n",
    "dbscan.fit(X, distance_matrix)\n",
    "print(\"Labels:\", dbscan.labels)\n",
    "print(\"Data Frame:\")\n",
    "print(dbscan.data_frame)"
   ]
  },
  {
   "cell_type": "code",
   "execution_count": 157,
   "metadata": {},
   "outputs": [
    {
     "data": {
      "application/vnd.plotly.v1+json": {
       "config": {
        "plotlyServerURL": "https://plot.ly"
       },
       "data": [
        {
         "hovertemplate": "x=%{x}<br>y=%{y}<br>labels=%{marker.color}<extra></extra>",
         "legendgroup": "",
         "marker": {
          "color": [
           -1,
           1,
           -1,
           -1,
           1,
           2,
           2,
           -1,
           2,
           3,
           2,
           2,
           1,
           -1,
           2,
           -1,
           2,
           2,
           -1,
           2,
           2,
           2,
           2,
           -1,
           -1,
           2,
           2,
           -1,
           1,
           2,
           2,
           2,
           2,
           3,
           2,
           -1,
           -1,
           2,
           2,
           2,
           1,
           -1,
           2,
           -1,
           -1,
           2,
           2,
           2,
           2,
           2,
           2,
           -1,
           2,
           2,
           2,
           -1,
           1,
           -1,
           -1,
           -1,
           2,
           -1,
           -1,
           2,
           2,
           -1,
           1,
           2,
           2,
           2,
           2,
           2,
           2,
           -1,
           2,
           1,
           2,
           -1,
           3,
           -1
          ],
          "coloraxis": "coloraxis",
          "symbol": "circle"
         },
         "mode": "markers",
         "name": "",
         "orientation": "v",
         "showlegend": false,
         "type": "scatter",
         "x": [
          51.4180890272801,
          39.132318399978814,
          47.80751510440953,
          27.699702929141356,
          39.86099481703741,
          -19.89185931646944,
          -0.0502825322555204,
          18.56251189306793,
          -14.629903651637436,
          38.74388097267972,
          -19.42147427164422,
          -9.114557013445014,
          40.05352196800545,
          44.3200188038368,
          -5.717139958397313,
          49.33000973835746,
          10.203045334287584,
          7.288191306453086,
          -50.47232191996444,
          -19.9817819533357,
          9.298230059713504,
          27.645646107177328,
          -23.14757956021088,
          -36.53433397866688,
          -22.161982955372046,
          -9.046846740594296,
          -5.731319312837116,
          49.70818240287954,
          39.77148046684003,
          5.515044660144542,
          20.83503433765769,
          19.294075085492736,
          -19.011260657773533,
          38.63872192402499,
          0.8001400631065849,
          44.86867114344571,
          12.819389423684498,
          19.45122619740321,
          15.678623904953689,
          -19.99964610884355,
          40.4121448261431,
          -31.89363518632371,
          5.956522076912938,
          -53.46124925515884,
          -11.279668321925762,
          19.792362802755328,
          4.84406861553218,
          20.921681165676414,
          14.292153290252063,
          19.394868576109165,
          -24.85186968652136,
          43.71553375876904,
          19.34799598981976,
          20.86872252666121,
          -14.295189099452454,
          -37.72529820900698,
          40.455248729212926,
          -1.582791301590461,
          -26.8932446498738,
          -53.888100692192445,
          -20.64709016777238,
          -8.45706433401795,
          40.59416796799729,
          -20.50623206209242,
          13.15393146087726,
          12.532022763975476,
          40.60523955401428,
          -10.612269590582258,
          -20.449442217435134,
          -21.735511424832133,
          -19.592554561841,
          -20.577410981618357,
          -20.792745819757705,
          13.922199754203971,
          -19.615246666653395,
          39.65904730747222,
          26.366490695143767,
          -36.18405980734306,
          44.01208473554805,
          -1.3932339341155997
         ],
         "xaxis": "x",
         "y": [
          13.593610291024676,
          -4.419204415001493,
          -25.822560549769435,
          53.434193065153295,
          5.676870901714278,
          10.410273811660709,
          -4.032522275625189,
          -28.65497990837755,
          -4.887040158034663,
          40.400290121056685,
          -20.88104250119114,
          -5.251819287270827,
          -20.335103200383447,
          -38.70766750849579,
          -5.061612513797467,
          -17.71167061272066,
          19.651902116097983,
          -7.042860177149549,
          -34.02200155880386,
          20.891617311323127,
          -5.662962428015969,
          16.043532140144862,
          -25.08970816444088,
          26.43552087215339,
          59.91080163505399,
          20.063972403411547,
          19.950897038105676,
          11.013786302670766,
          -14.7891646875484,
          20.74569770327134,
          0.0536380317622169,
          14.142294346791124,
          2.1700210896339343,
          35.60031846982629,
          19.940288816880265,
          52.21117243887545,
          34.585663163879545,
          -10.951651836784633,
          -5.307365602222503,
          -14.92268780370065,
          -9.97133770660152,
          -35.905557756771955,
          -5.794272239838005,
          14.589842352329484,
          -40.24939246065994,
          -4.849866624176975,
          23.35605163470693,
          -20.52039413562267,
          20.34362091324353,
          10.006915553343678,
          -10.462004481812158,
          -41.71385934976746,
          4.596383211539877,
          -15.268779691870211,
          20.02807632181326,
          44.94191650142315,
          10.130256876933394,
          30.80013732126129,
          51.28635642222928,
          10.69095057386329,
          -5.925784499045043,
          -20.01705204598669,
          51.85131677106395,
          -5.066204776419367,
          5.1533357952679495,
          -44.86499604430024,
          15.589895889925176,
          12.882816547291084,
          -10.814109370734627,
          2.641842009219772,
          4.313652518729349,
          -20.39900296193844,
          -0.6362231502130449,
          -53.90739948334448,
          15.755553151747042,
          0.2301780131856834,
          8.798826124935147,
          44.2920447885741,
          37.72947762746371,
          -55.29394275062961
         ],
         "yaxis": "y"
        }
       ],
       "layout": {
        "coloraxis": {
         "colorbar": {
          "title": {
           "text": "labels"
          }
         },
         "colorscale": [
          [
           0,
           "#0d0887"
          ],
          [
           0.1111111111111111,
           "#46039f"
          ],
          [
           0.2222222222222222,
           "#7201a8"
          ],
          [
           0.3333333333333333,
           "#9c179e"
          ],
          [
           0.4444444444444444,
           "#bd3786"
          ],
          [
           0.5555555555555556,
           "#d8576b"
          ],
          [
           0.6666666666666666,
           "#ed7953"
          ],
          [
           0.7777777777777778,
           "#fb9f3a"
          ],
          [
           0.8888888888888888,
           "#fdca26"
          ],
          [
           1,
           "#f0f921"
          ]
         ]
        },
        "legend": {
         "tracegroupgap": 0
        },
        "margin": {
         "t": 60
        },
        "template": {
         "data": {
          "bar": [
           {
            "error_x": {
             "color": "#2a3f5f"
            },
            "error_y": {
             "color": "#2a3f5f"
            },
            "marker": {
             "line": {
              "color": "#E5ECF6",
              "width": 0.5
             },
             "pattern": {
              "fillmode": "overlay",
              "size": 10,
              "solidity": 0.2
             }
            },
            "type": "bar"
           }
          ],
          "barpolar": [
           {
            "marker": {
             "line": {
              "color": "#E5ECF6",
              "width": 0.5
             },
             "pattern": {
              "fillmode": "overlay",
              "size": 10,
              "solidity": 0.2
             }
            },
            "type": "barpolar"
           }
          ],
          "carpet": [
           {
            "aaxis": {
             "endlinecolor": "#2a3f5f",
             "gridcolor": "white",
             "linecolor": "white",
             "minorgridcolor": "white",
             "startlinecolor": "#2a3f5f"
            },
            "baxis": {
             "endlinecolor": "#2a3f5f",
             "gridcolor": "white",
             "linecolor": "white",
             "minorgridcolor": "white",
             "startlinecolor": "#2a3f5f"
            },
            "type": "carpet"
           }
          ],
          "choropleth": [
           {
            "colorbar": {
             "outlinewidth": 0,
             "ticks": ""
            },
            "type": "choropleth"
           }
          ],
          "contour": [
           {
            "colorbar": {
             "outlinewidth": 0,
             "ticks": ""
            },
            "colorscale": [
             [
              0,
              "#0d0887"
             ],
             [
              0.1111111111111111,
              "#46039f"
             ],
             [
              0.2222222222222222,
              "#7201a8"
             ],
             [
              0.3333333333333333,
              "#9c179e"
             ],
             [
              0.4444444444444444,
              "#bd3786"
             ],
             [
              0.5555555555555556,
              "#d8576b"
             ],
             [
              0.6666666666666666,
              "#ed7953"
             ],
             [
              0.7777777777777778,
              "#fb9f3a"
             ],
             [
              0.8888888888888888,
              "#fdca26"
             ],
             [
              1,
              "#f0f921"
             ]
            ],
            "type": "contour"
           }
          ],
          "contourcarpet": [
           {
            "colorbar": {
             "outlinewidth": 0,
             "ticks": ""
            },
            "type": "contourcarpet"
           }
          ],
          "heatmap": [
           {
            "colorbar": {
             "outlinewidth": 0,
             "ticks": ""
            },
            "colorscale": [
             [
              0,
              "#0d0887"
             ],
             [
              0.1111111111111111,
              "#46039f"
             ],
             [
              0.2222222222222222,
              "#7201a8"
             ],
             [
              0.3333333333333333,
              "#9c179e"
             ],
             [
              0.4444444444444444,
              "#bd3786"
             ],
             [
              0.5555555555555556,
              "#d8576b"
             ],
             [
              0.6666666666666666,
              "#ed7953"
             ],
             [
              0.7777777777777778,
              "#fb9f3a"
             ],
             [
              0.8888888888888888,
              "#fdca26"
             ],
             [
              1,
              "#f0f921"
             ]
            ],
            "type": "heatmap"
           }
          ],
          "heatmapgl": [
           {
            "colorbar": {
             "outlinewidth": 0,
             "ticks": ""
            },
            "colorscale": [
             [
              0,
              "#0d0887"
             ],
             [
              0.1111111111111111,
              "#46039f"
             ],
             [
              0.2222222222222222,
              "#7201a8"
             ],
             [
              0.3333333333333333,
              "#9c179e"
             ],
             [
              0.4444444444444444,
              "#bd3786"
             ],
             [
              0.5555555555555556,
              "#d8576b"
             ],
             [
              0.6666666666666666,
              "#ed7953"
             ],
             [
              0.7777777777777778,
              "#fb9f3a"
             ],
             [
              0.8888888888888888,
              "#fdca26"
             ],
             [
              1,
              "#f0f921"
             ]
            ],
            "type": "heatmapgl"
           }
          ],
          "histogram": [
           {
            "marker": {
             "pattern": {
              "fillmode": "overlay",
              "size": 10,
              "solidity": 0.2
             }
            },
            "type": "histogram"
           }
          ],
          "histogram2d": [
           {
            "colorbar": {
             "outlinewidth": 0,
             "ticks": ""
            },
            "colorscale": [
             [
              0,
              "#0d0887"
             ],
             [
              0.1111111111111111,
              "#46039f"
             ],
             [
              0.2222222222222222,
              "#7201a8"
             ],
             [
              0.3333333333333333,
              "#9c179e"
             ],
             [
              0.4444444444444444,
              "#bd3786"
             ],
             [
              0.5555555555555556,
              "#d8576b"
             ],
             [
              0.6666666666666666,
              "#ed7953"
             ],
             [
              0.7777777777777778,
              "#fb9f3a"
             ],
             [
              0.8888888888888888,
              "#fdca26"
             ],
             [
              1,
              "#f0f921"
             ]
            ],
            "type": "histogram2d"
           }
          ],
          "histogram2dcontour": [
           {
            "colorbar": {
             "outlinewidth": 0,
             "ticks": ""
            },
            "colorscale": [
             [
              0,
              "#0d0887"
             ],
             [
              0.1111111111111111,
              "#46039f"
             ],
             [
              0.2222222222222222,
              "#7201a8"
             ],
             [
              0.3333333333333333,
              "#9c179e"
             ],
             [
              0.4444444444444444,
              "#bd3786"
             ],
             [
              0.5555555555555556,
              "#d8576b"
             ],
             [
              0.6666666666666666,
              "#ed7953"
             ],
             [
              0.7777777777777778,
              "#fb9f3a"
             ],
             [
              0.8888888888888888,
              "#fdca26"
             ],
             [
              1,
              "#f0f921"
             ]
            ],
            "type": "histogram2dcontour"
           }
          ],
          "mesh3d": [
           {
            "colorbar": {
             "outlinewidth": 0,
             "ticks": ""
            },
            "type": "mesh3d"
           }
          ],
          "parcoords": [
           {
            "line": {
             "colorbar": {
              "outlinewidth": 0,
              "ticks": ""
             }
            },
            "type": "parcoords"
           }
          ],
          "pie": [
           {
            "automargin": true,
            "type": "pie"
           }
          ],
          "scatter": [
           {
            "fillpattern": {
             "fillmode": "overlay",
             "size": 10,
             "solidity": 0.2
            },
            "type": "scatter"
           }
          ],
          "scatter3d": [
           {
            "line": {
             "colorbar": {
              "outlinewidth": 0,
              "ticks": ""
             }
            },
            "marker": {
             "colorbar": {
              "outlinewidth": 0,
              "ticks": ""
             }
            },
            "type": "scatter3d"
           }
          ],
          "scattercarpet": [
           {
            "marker": {
             "colorbar": {
              "outlinewidth": 0,
              "ticks": ""
             }
            },
            "type": "scattercarpet"
           }
          ],
          "scattergeo": [
           {
            "marker": {
             "colorbar": {
              "outlinewidth": 0,
              "ticks": ""
             }
            },
            "type": "scattergeo"
           }
          ],
          "scattergl": [
           {
            "marker": {
             "colorbar": {
              "outlinewidth": 0,
              "ticks": ""
             }
            },
            "type": "scattergl"
           }
          ],
          "scattermapbox": [
           {
            "marker": {
             "colorbar": {
              "outlinewidth": 0,
              "ticks": ""
             }
            },
            "type": "scattermapbox"
           }
          ],
          "scatterpolar": [
           {
            "marker": {
             "colorbar": {
              "outlinewidth": 0,
              "ticks": ""
             }
            },
            "type": "scatterpolar"
           }
          ],
          "scatterpolargl": [
           {
            "marker": {
             "colorbar": {
              "outlinewidth": 0,
              "ticks": ""
             }
            },
            "type": "scatterpolargl"
           }
          ],
          "scatterternary": [
           {
            "marker": {
             "colorbar": {
              "outlinewidth": 0,
              "ticks": ""
             }
            },
            "type": "scatterternary"
           }
          ],
          "surface": [
           {
            "colorbar": {
             "outlinewidth": 0,
             "ticks": ""
            },
            "colorscale": [
             [
              0,
              "#0d0887"
             ],
             [
              0.1111111111111111,
              "#46039f"
             ],
             [
              0.2222222222222222,
              "#7201a8"
             ],
             [
              0.3333333333333333,
              "#9c179e"
             ],
             [
              0.4444444444444444,
              "#bd3786"
             ],
             [
              0.5555555555555556,
              "#d8576b"
             ],
             [
              0.6666666666666666,
              "#ed7953"
             ],
             [
              0.7777777777777778,
              "#fb9f3a"
             ],
             [
              0.8888888888888888,
              "#fdca26"
             ],
             [
              1,
              "#f0f921"
             ]
            ],
            "type": "surface"
           }
          ],
          "table": [
           {
            "cells": {
             "fill": {
              "color": "#EBF0F8"
             },
             "line": {
              "color": "white"
             }
            },
            "header": {
             "fill": {
              "color": "#C8D4E3"
             },
             "line": {
              "color": "white"
             }
            },
            "type": "table"
           }
          ]
         },
         "layout": {
          "annotationdefaults": {
           "arrowcolor": "#2a3f5f",
           "arrowhead": 0,
           "arrowwidth": 1
          },
          "autotypenumbers": "strict",
          "coloraxis": {
           "colorbar": {
            "outlinewidth": 0,
            "ticks": ""
           }
          },
          "colorscale": {
           "diverging": [
            [
             0,
             "#8e0152"
            ],
            [
             0.1,
             "#c51b7d"
            ],
            [
             0.2,
             "#de77ae"
            ],
            [
             0.3,
             "#f1b6da"
            ],
            [
             0.4,
             "#fde0ef"
            ],
            [
             0.5,
             "#f7f7f7"
            ],
            [
             0.6,
             "#e6f5d0"
            ],
            [
             0.7,
             "#b8e186"
            ],
            [
             0.8,
             "#7fbc41"
            ],
            [
             0.9,
             "#4d9221"
            ],
            [
             1,
             "#276419"
            ]
           ],
           "sequential": [
            [
             0,
             "#0d0887"
            ],
            [
             0.1111111111111111,
             "#46039f"
            ],
            [
             0.2222222222222222,
             "#7201a8"
            ],
            [
             0.3333333333333333,
             "#9c179e"
            ],
            [
             0.4444444444444444,
             "#bd3786"
            ],
            [
             0.5555555555555556,
             "#d8576b"
            ],
            [
             0.6666666666666666,
             "#ed7953"
            ],
            [
             0.7777777777777778,
             "#fb9f3a"
            ],
            [
             0.8888888888888888,
             "#fdca26"
            ],
            [
             1,
             "#f0f921"
            ]
           ],
           "sequentialminus": [
            [
             0,
             "#0d0887"
            ],
            [
             0.1111111111111111,
             "#46039f"
            ],
            [
             0.2222222222222222,
             "#7201a8"
            ],
            [
             0.3333333333333333,
             "#9c179e"
            ],
            [
             0.4444444444444444,
             "#bd3786"
            ],
            [
             0.5555555555555556,
             "#d8576b"
            ],
            [
             0.6666666666666666,
             "#ed7953"
            ],
            [
             0.7777777777777778,
             "#fb9f3a"
            ],
            [
             0.8888888888888888,
             "#fdca26"
            ],
            [
             1,
             "#f0f921"
            ]
           ]
          },
          "colorway": [
           "#636efa",
           "#EF553B",
           "#00cc96",
           "#ab63fa",
           "#FFA15A",
           "#19d3f3",
           "#FF6692",
           "#B6E880",
           "#FF97FF",
           "#FECB52"
          ],
          "font": {
           "color": "#2a3f5f"
          },
          "geo": {
           "bgcolor": "white",
           "lakecolor": "white",
           "landcolor": "#E5ECF6",
           "showlakes": true,
           "showland": true,
           "subunitcolor": "white"
          },
          "hoverlabel": {
           "align": "left"
          },
          "hovermode": "closest",
          "mapbox": {
           "style": "light"
          },
          "paper_bgcolor": "white",
          "plot_bgcolor": "#E5ECF6",
          "polar": {
           "angularaxis": {
            "gridcolor": "white",
            "linecolor": "white",
            "ticks": ""
           },
           "bgcolor": "#E5ECF6",
           "radialaxis": {
            "gridcolor": "white",
            "linecolor": "white",
            "ticks": ""
           }
          },
          "scene": {
           "xaxis": {
            "backgroundcolor": "#E5ECF6",
            "gridcolor": "white",
            "gridwidth": 2,
            "linecolor": "white",
            "showbackground": true,
            "ticks": "",
            "zerolinecolor": "white"
           },
           "yaxis": {
            "backgroundcolor": "#E5ECF6",
            "gridcolor": "white",
            "gridwidth": 2,
            "linecolor": "white",
            "showbackground": true,
            "ticks": "",
            "zerolinecolor": "white"
           },
           "zaxis": {
            "backgroundcolor": "#E5ECF6",
            "gridcolor": "white",
            "gridwidth": 2,
            "linecolor": "white",
            "showbackground": true,
            "ticks": "",
            "zerolinecolor": "white"
           }
          },
          "shapedefaults": {
           "line": {
            "color": "#2a3f5f"
           }
          },
          "ternary": {
           "aaxis": {
            "gridcolor": "white",
            "linecolor": "white",
            "ticks": ""
           },
           "baxis": {
            "gridcolor": "white",
            "linecolor": "white",
            "ticks": ""
           },
           "bgcolor": "#E5ECF6",
           "caxis": {
            "gridcolor": "white",
            "linecolor": "white",
            "ticks": ""
           }
          },
          "title": {
           "x": 0.05
          },
          "xaxis": {
           "automargin": true,
           "gridcolor": "white",
           "linecolor": "white",
           "ticks": "",
           "title": {
            "standoff": 15
           },
           "zerolinecolor": "white",
           "zerolinewidth": 2
          },
          "yaxis": {
           "automargin": true,
           "gridcolor": "white",
           "linecolor": "white",
           "ticks": "",
           "title": {
            "standoff": 15
           },
           "zerolinecolor": "white",
           "zerolinewidth": 2
          }
         }
        },
        "xaxis": {
         "anchor": "y",
         "domain": [
          0,
          1
         ],
         "title": {
          "text": "x"
         }
        },
        "yaxis": {
         "anchor": "x",
         "domain": [
          0,
          1
         ],
         "title": {
          "text": "y"
         }
        }
       }
      }
     },
     "metadata": {},
     "output_type": "display_data"
    }
   ],
   "source": [
    "results = dbscan.data_frame\n",
    "results['labels'] = dbscan.labels\n",
    "\n",
    "fig = px.scatter(results, x=\"x\", y=\"y\", color=\"labels\")\n",
    "fig.show()"
   ]
  }
 ],
 "metadata": {
  "kernelspec": {
   "display_name": "base",
   "language": "python",
   "name": "python3"
  },
  "language_info": {
   "codemirror_mode": {
    "name": "ipython",
    "version": 3
   },
   "file_extension": ".py",
   "mimetype": "text/x-python",
   "name": "python",
   "nbconvert_exporter": "python",
   "pygments_lexer": "ipython3",
   "version": "3.10.9"
  },
  "orig_nbformat": 4
 },
 "nbformat": 4,
 "nbformat_minor": 2
}
