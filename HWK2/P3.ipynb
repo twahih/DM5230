{
 "cells": [
  {
   "cell_type": "code",
   "execution_count": 88,
   "metadata": {},
   "outputs": [],
   "source": [
    "import numpy as np\n",
    "import pandas as pd\n",
    "from scipy import stats\n",
    "from scipy.special import logsumexp\n",
    "from matplotlib import pyplot as plt\n",
    "\n",
    "\n",
    "def get_random_psd(n):\n",
    "    x = np.random.normal(0, 1, size=(n, n))\n",
    "    return np.dot(x, x.transpose())\n",
    "\n",
    "\n",
    "def initialize_random_params():\n",
    "    params = {'phi': np.random.uniform(0, 1),\n",
    "              'mu0': np.random.normal(0, 1, size=(2,)),\n",
    "              'mu1': np.random.normal(0, 1, size=(2,)),\n",
    "              'sigma0': get_random_psd(2),\n",
    "              'sigma1': get_random_psd(2)}\n",
    "    return params\n",
    "\n",
    "\n",
    "def learn_params(x_labeled, y_labeled):\n",
    "    n = x_labeled.shape[0]\n",
    "    phi = x_labeled[y_labeled == 1].shape[0] / n\n",
    "    mu0 = np.sum(x_labeled[y_labeled == 0], axis=0) / x_labeled[y_labeled == 0].shape[0]\n",
    "    mu1 = np.sum(x_labeled[y_labeled == 1], axis=0) / x_labeled[y_labeled == 1].shape[0]\n",
    "    sigma0 = np.cov(x_labeled[y_labeled == 0].T, bias= True)\n",
    "    sigma1 = np.cov(x_labeled[y_labeled == 1].T, bias=True)\n",
    "    return {'phi': phi, 'mu0': mu0, 'mu1': mu1, 'sigma0': sigma0, 'sigma1': sigma1}\n",
    "\n",
    "\n",
    "def e_step(x, params):\n",
    "    np.log([stats.multivariate_normal(params[\"mu0\"], params[\"sigma0\"]).pdf(x),\n",
    "            stats.multivariate_normal(params[\"mu1\"], params[\"sigma1\"]).pdf(x)])\n",
    "    log_p_y_x = np.log([1-params[\"phi\"], params[\"phi\"]])[np.newaxis, ...] + \\\n",
    "                np.log([stats.multivariate_normal(params[\"mu0\"], params[\"sigma0\"]).pdf(x),\n",
    "            stats.multivariate_normal(params[\"mu1\"], params[\"sigma1\"]).pdf(x)]).T\n",
    "    log_p_y_x_norm = logsumexp(log_p_y_x, axis=1)\n",
    "    return log_p_y_x_norm, np.exp(log_p_y_x - log_p_y_x_norm[..., np.newaxis])\n",
    "\n",
    "\n",
    "\n",
    "def m_step(x, params):\n",
    "    total_count = x.shape[0]\n",
    "    _, heuristics = e_step(x, params)\n",
    "    heuristic0 = heuristics[:, 0]\n",
    "    heuristic1 = heuristics[:, 1]\n",
    "    sum_heuristic1 = np.sum(heuristic1)\n",
    "    sum_heuristic0 = np.sum(heuristic0)\n",
    "    phi = (sum_heuristic1/total_count)\n",
    "    mu0 = (heuristic0[..., np.newaxis].T.dot(x)/sum_heuristic0).flatten()\n",
    "    mu1 = (heuristic1[..., np.newaxis].T.dot(x)/sum_heuristic1).flatten()\n",
    "    diff0 = x - mu0\n",
    "    sigma0 = diff0.T.dot(diff0 * heuristic0[..., np.newaxis]) / sum_heuristic0\n",
    "    diff1 = x - mu1\n",
    "    sigma1 = diff1.T.dot(diff1 * heuristic1[..., np.newaxis]) / sum_heuristic1\n",
    "    params = {'phi': phi, 'mu0': mu0, 'mu1': mu1, 'sigma0': sigma0, 'sigma1': sigma1}\n",
    "    return params\n",
    "\n",
    "\n",
    "def get_avg_log_likelihood(x, params):\n",
    "    loglikelihood, _ = e_step(x, params)\n",
    "    return np.mean(loglikelihood)\n",
    "\n",
    "\n",
    "def run_em(x, params):\n",
    "    avg_loglikelihoods = []\n",
    "    while True:\n",
    "        avg_loglikelihood = get_avg_log_likelihood(x, params)\n",
    "        avg_loglikelihoods.append(avg_loglikelihood)\n",
    "        if len(avg_loglikelihoods) > 2 and abs(avg_loglikelihoods[-1] - avg_loglikelihoods[-2]) < 0.0001:  # break condition when the loglikelihood is not changing\n",
    "            break\n",
    "        params = m_step(x, params)\n",
    "    print(\"EM algorithm converged.\")\n",
    "    print(\"Final Parameters:\")\n",
    "    print(f\"\\tphi: {params['phi']}\")\n",
    "    print(f\"\\tmu_0: {params['mu0']}\")\n",
    "    print(f\"\\tmu_1: {params['mu1']}\")\n",
    "    print(f\"\\tsigma_0:\\n{params['sigma0']}\")\n",
    "    print(f\"\\tsigma_1:\\n{params['sigma1']}\")\n",
    "    print(x.shape)\n",
    "\n",
    "    _, posterior = e_step(x, params)\n",
    "    forecasts = np.argmax(posterior, axis=1)\n",
    "    return forecasts, posterior, avg_loglikelihoods\n",
    "\n",
    "\n"
   ]
  },
  {
   "cell_type": "code",
   "execution_count": 89,
   "metadata": {},
   "outputs": [],
   "source": [
    "# Provide the path to your text file\n",
    "file_path = \"https://www.ccs.neu.edu/home/vip/teach/DMcourse/2_cluster_EM_mixt/HW2/2gaussian.txt\"\n",
    "\n",
    "# Read the data into a dataframe\n",
    "df = pd.read_csv(file_path, sep=\" \", header=None, names=['x1', 'x2'])\n",
    "x = df.values"
   ]
  },
  {
   "attachments": {},
   "cell_type": "markdown",
   "metadata": {},
   "source": [
    "### Results for 2 gaussian"
   ]
  },
  {
   "cell_type": "code",
   "execution_count": 90,
   "metadata": {},
   "outputs": [
    {
     "name": "stdout",
     "output_type": "stream",
     "text": [
      "Learned Parameter: \n",
      "EM algorithm converged.\n",
      "Final Parameters:\n",
      "\tphi: 0.667517710695926\n",
      "\tmu_0: [2.98061058 3.05387953]\n",
      "\tmu_1: [7.005954   3.97901935]\n",
      "\tsigma_0:\n",
      "[[0.98826364 0.02991258]\n",
      " [0.02991258 2.9484209 ]]\n",
      "\tsigma_1:\n",
      "[[0.98752928 0.50473472]\n",
      " [0.50473472 1.0072154 ]]\n",
      "(6000, 2)\n",
      "total steps:  20\n"
     ]
    },
    {
     "data": {
      "text/plain": [
       "'source: https://github.com/VXU1230/Medium-Tutorials/tree/master/em'"
      ]
     },
     "execution_count": 90,
     "metadata": {},
     "output_type": "execute_result"
    }
   ],
   "source": [
    "    \n",
    "# Unsupervised learning\n",
    "print(\"Learned Parameter For 2 gaussian: \")\n",
    "random_params = initialize_random_params()\n",
    "unsupervised_forecasts, unsupervised_posterior, unsupervised_loglikelihoods = run_em(x, random_params)\n",
    "print(\"total steps: \", len(unsupervised_loglikelihoods))\n",
    "    # Semi-supervised learning\n",
    "\"\"\"source: https://github.com/VXU1230/Medium-Tutorials/tree/master/em\"\"\""
   ]
  },
  {
   "cell_type": "code",
   "execution_count": 91,
   "metadata": {},
   "outputs": [],
   "source": [
    "cluster_0_data = x[unsupervised_forecasts==0]\n",
    "cluster_1_data = x[unsupervised_forecasts==1]"
   ]
  },
  {
   "cell_type": "code",
   "execution_count": 92,
   "metadata": {},
   "outputs": [
    {
     "name": "stdout",
     "output_type": "stream",
     "text": [
      "mean_cluster_0 = [2.95292525 3.04194494]\n",
      "mean_cluster_1 = [7.00972229 3.98264004]\n",
      "cov_cluster_0 = [[0.90780697 0.01158188]\n",
      " [0.01158188 2.97341593]]\n",
      "cov_cluster_1 = [[0.95711426 0.48533666]\n",
      " [0.48533666 0.99173716]]\n"
     ]
    }
   ],
   "source": [
    "# Compute the mean of each cluster\n",
    "mean_cluster_0 = np.mean(cluster_0_data, axis=0)\n",
    "mean_cluster_1 = np.mean(cluster_1_data, axis=0)\n",
    "\n",
    "# Compute the covariance matrix of each cluster\n",
    "cov_cluster_0 = np.cov(cluster_0_data.T)\n",
    "cov_cluster_1 = np.cov(cluster_1_data.T)\n",
    "\n",
    "print(f\"mean_cluster_0 = {mean_cluster_0}\")\n",
    "print(f\"mean_cluster_1 = {mean_cluster_1}\")\n",
    "print(f\"cov_cluster_0 = {cov_cluster_0}\")\n",
    "print(f\"cov_cluster_1 = {cov_cluster_1}\")"
   ]
  },
  {
   "attachments": {},
   "cell_type": "markdown",
   "metadata": {},
   "source": [
    "## B"
   ]
  },
  {
   "cell_type": "code",
   "execution_count": 94,
   "metadata": {},
   "outputs": [],
   "source": [
    "# Provide the path to your text file\n",
    "file_path = \"https://www.ccs.neu.edu/home/vip/teach/DMcourse/2_cluster_EM_mixt/HW2/3gaussian.txt\"\n",
    "\n",
    "# Read the data into a dataframe\n",
    "df = pd.read_csv(file_path, sep=\" \", header=None, names=['x1', 'x2'])\n",
    "x = df.values"
   ]
  },
  {
   "cell_type": "code",
   "execution_count": null,
   "metadata": {},
   "outputs": [],
   "source": []
  }
 ],
 "metadata": {
  "kernelspec": {
   "display_name": "base",
   "language": "python",
   "name": "python3"
  },
  "language_info": {
   "codemirror_mode": {
    "name": "ipython",
    "version": 3
   },
   "file_extension": ".py",
   "mimetype": "text/x-python",
   "name": "python",
   "nbconvert_exporter": "python",
   "pygments_lexer": "ipython3",
   "version": "3.10.9"
  },
  "orig_nbformat": 4
 },
 "nbformat": 4,
 "nbformat_minor": 2
}
