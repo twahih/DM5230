{
 "cells": [
  {
   "cell_type": "code",
   "execution_count": 1,
   "metadata": {},
   "outputs": [],
   "source": [
    "import numpy as np\n",
    "import pandas as pd\n",
    "from scipy import stats\n",
    "from scipy.special import logsumexp\n",
    "from matplotlib import pyplot as plt\n",
    "\n",
    "\n",
    "def get_random_psd(n):\n",
    "    x = np.random.normal(0, 1, size=(n, n))\n",
    "    return np.dot(x, x.transpose())\n",
    "\n",
    "\n",
    "def initialize_random_params(k):\n",
    "    params = {'phi': np.random.uniform(0, 1, size=(k,)),\n",
    "              'mu': [np.random.normal(0, 1, size=(2,)) for _ in range(k)],\n",
    "              'sigma': [get_random_psd(2) for _ in range(k)]}\n",
    "    return params\n",
    "\n",
    "\n",
    "\n",
    "def learn_params(x_labeled, y_labeled):\n",
    "    n = x_labeled.shape[0]\n",
    "    k = len(np.unique(y_labeled))\n",
    "    phi = [np.sum(y_labeled == i) / n for i in range(k)]\n",
    "    mu = [np.sum(x_labeled[y_labeled == i], axis=0) / np.sum(y_labeled == i) for i in range(k)]\n",
    "    sigma = [np.cov(x_labeled[y_labeled == i].T, bias=True) for i in range(k)]\n",
    "    return {'phi': phi, 'mu': mu, 'sigma': sigma}\n",
    "\n",
    "\n",
    "def e_step(x, params):\n",
    "    k = len(params['phi'])\n",
    "    log_p_y_x = np.zeros((x.shape[0], k))\n",
    "    for i in range(k):\n",
    "        log_p_y_x[:, i] = np.log(params['phi'][i]) + \\\n",
    "                          stats.multivariate_normal.logpdf(x, params['mu'][i], params['sigma'][i])\n",
    "    log_p_y_x_norm = logsumexp(log_p_y_x, axis=1)\n",
    "    p_y_x = np.exp(log_p_y_x - log_p_y_x_norm[:, np.newaxis])\n",
    "    return log_p_y_x_norm, p_y_x\n",
    "\n",
    "\n",
    "def m_step(x, params):\n",
    "    k = len(params['phi'])\n",
    "    n = x.shape[0]\n",
    "    _, p_y_x = e_step(x, params)\n",
    "    phi = np.sum(p_y_x, axis=0) / n\n",
    "    mu = [np.sum(p_y_x[:, i, np.newaxis] * x, axis=0) / np.sum(p_y_x[:, i]) for i in range(k)]\n",
    "    sigma = [((x - mu[i]).T.dot((x - mu[i]) * p_y_x[:, i, np.newaxis])) / np.sum(p_y_x[:, i]) for i in range(k)]\n",
    "    return {'phi': phi, 'mu': mu, 'sigma': sigma}\n",
    "\n",
    "\n",
    "def get_avg_log_likelihood(x, params):\n",
    "    loglikelihood, _ = e_step(x, params)\n",
    "    return np.mean(loglikelihood)\n",
    "\n",
    "\n",
    "def run_em(x, params):\n",
    "    avg_loglikelihoods = []\n",
    "    while True:\n",
    "        avg_loglikelihood = get_avg_log_likelihood(x, params)\n",
    "        avg_loglikelihoods.append(avg_loglikelihood)\n",
    "        if len(avg_loglikelihoods) > 2 and abs(avg_loglikelihoods[-1] - avg_loglikelihoods[-2]) < 0.0001:  # break condition when the loglikelihood is not changing\n",
    "            break\n",
    "        params = m_step(x, params)\n",
    "    print(\"EM algorithm converged.\")\n",
    "    print(\"Final Parameters:\")\n",
    "    print(f\"\\tphi: {params['phi']}\")\n",
    "    for i in range(len(params['mu'])):\n",
    "        print(f\"\\tmu_{i}: {params['mu'][i]}\")\n",
    "    for i in range(len(params['sigma'])):\n",
    "        print(f\"\\tsigma_{i}:\\n{params['sigma'][i]}\")\n",
    "\n",
    "    _, posterior = e_step(x, params)\n",
    "    forecasts = np.argmax(posterior, axis=1)\n",
    "    return forecasts, posterior, avg_loglikelihoods"
   ]
  },
  {
   "cell_type": "code",
   "execution_count": 2,
   "metadata": {},
   "outputs": [],
   "source": [
    "# Provide the path to your text file\n",
    "file_path = \"https://www.ccs.neu.edu/home/vip/teach/DMcourse/2_cluster_EM_mixt/HW2/2gaussian.txt\"\n",
    "\n",
    "# Read the data into a dataframe\n",
    "df = pd.read_csv(file_path, sep=\" \", header=None, names=['x1', 'x2'])\n",
    "x = df.values"
   ]
  },
  {
   "attachments": {},
   "cell_type": "markdown",
   "metadata": {},
   "source": [
    "### Results for 2 gaussian"
   ]
  },
  {
   "cell_type": "code",
   "execution_count": 3,
   "metadata": {},
   "outputs": [
    {
     "name": "stdout",
     "output_type": "stream",
     "text": [
      "Learned Parameter For 2 gaussian: \n",
      "EM algorithm converged.\n",
      "Final Parameters:\n",
      "\tphi: [0.66766727 0.33233273]\n",
      "\tmu_0: [7.00548219 3.97874915]\n",
      "\tmu_1: [2.97974693 3.05400601]\n",
      "\tsigma_0:\n",
      "[[0.98838313 0.50522166]\n",
      " [0.50522166 1.00761801]]\n",
      "\tsigma_1:\n",
      "[[0.98688646 0.03010652]\n",
      " [0.03010652 2.94910468]]\n",
      "total steps:  19\n",
      "[[9.99990424e-01 9.57645720e-06]\n",
      " [9.99985386e-01 1.46135232e-05]\n",
      " [1.85820837e-03 9.98141792e-01]\n",
      " ...\n",
      " [9.78646884e-01 2.13531160e-02]\n",
      " [9.99999751e-01 2.49061671e-07]\n",
      " [1.48525386e-04 9.99851475e-01]]\n"
     ]
    }
   ],
   "source": [
    "# Unsupervised learning\n",
    "print(\"Learned Parameter For 2 gaussian: \")\n",
    "random_params = initialize_random_params(2)\n",
    "unsupervised_forecasts, unsupervised_posterior, unsupervised_loglikelihoods = run_em(x, random_params)\n",
    "print(\"total steps: \", len(unsupervised_loglikelihoods))\n",
    "    # Semi-supervised learning\n",
    "\n",
    "print(unsupervised_posterior)"
   ]
  },
  {
   "cell_type": "code",
   "execution_count": 4,
   "metadata": {},
   "outputs": [
    {
     "name": "stdout",
     "output_type": "stream",
     "text": [
      "n1= 4015\n",
      "n2= 1985\n",
      "mean_cluster_0 = [7.00972229 3.98264004]\n",
      "mean_cluster_1 = [2.95292525 3.04194494]\n",
      "cov_cluster_0 = [[0.95711426 0.48533666]\n",
      " [0.48533666 0.99173716]]\n",
      "cov_cluster_1 = [[0.90780697 0.01158188]\n",
      " [0.01158188 2.97341593]]\n"
     ]
    }
   ],
   "source": [
    "cluster_0_data = x[unsupervised_forecasts==0]\n",
    "cluster_1_data = x[unsupervised_forecasts==1]\n",
    "\n",
    "# Compute the mean of each cluster\n",
    "mean_cluster_0 = np.mean(cluster_0_data, axis=0)\n",
    "mean_cluster_1 = np.mean(cluster_1_data, axis=0)\n",
    "\n",
    "# Compute the covariance matrix of each cluster\n",
    "cov_cluster_0 = np.cov(cluster_0_data.T)\n",
    "cov_cluster_1 = np.cov(cluster_1_data.T)\n",
    "\n",
    "print('n1=',len(cluster_0_data))\n",
    "print('n2=',len(cluster_1_data))\n",
    "\n",
    "print(f\"mean_cluster_0 = {mean_cluster_0}\")\n",
    "print(f\"mean_cluster_1 = {mean_cluster_1}\")\n",
    "print(f\"cov_cluster_0 = {cov_cluster_0}\")\n",
    "print(f\"cov_cluster_1 = {cov_cluster_1}\")"
   ]
  },
  {
   "attachments": {},
   "cell_type": "markdown",
   "metadata": {},
   "source": [
    "### Resutls for 3 gaussian"
   ]
  },
  {
   "cell_type": "code",
   "execution_count": 5,
   "metadata": {},
   "outputs": [],
   "source": [
    "# Provide the path to your text file\n",
    "file_path = \"https://www.ccs.neu.edu/home/vip/teach/DMcourse/2_cluster_EM_mixt/HW2/3gaussian.txt\"\n",
    "\n",
    "# Read the data into a dataframe\n",
    "df = pd.read_csv(file_path, sep=\" \", header=None, names=['x1', 'x2'])\n",
    "x = df.values"
   ]
  },
  {
   "cell_type": "code",
   "execution_count": 6,
   "metadata": {},
   "outputs": [
    {
     "name": "stdout",
     "output_type": "stream",
     "text": [
      "Learned Parameter For 2 gaussian: \n",
      "EM algorithm converged.\n",
      "Final Parameters:\n",
      "\tphi: [0.0239966  0.81364877 0.16235464]\n",
      "\tmu_0: [1.93805307 1.57741035]\n",
      "\tmu_1: [5.72489391 5.86096335]\n",
      "\tmu_2: [3.08911175 3.02423879]\n",
      "\tsigma_0:\n",
      "[[ 0.54858554 -0.45352903]\n",
      " [-0.45352903  2.1229826 ]]\n",
      "\tsigma_1:\n",
      "[[ 1.97720028 -1.05216388]\n",
      " [-1.05216388  3.0454697 ]]\n",
      "\tsigma_2:\n",
      "[[ 0.83410566 -0.33407792]\n",
      " [-0.33407792  3.00906205]]\n",
      "total steps:  30\n"
     ]
    }
   ],
   "source": [
    "# Unsupervised learning\n",
    "print(\"Learned Parameter For 2 gaussian: \")\n",
    "random_params = initialize_random_params(3)\n",
    "unsupervised_forecasts, unsupervised_posterior, unsupervised_loglikelihoods = run_em(x, random_params)\n",
    "print(\"total steps: \", len(unsupervised_loglikelihoods))"
   ]
  },
  {
   "cell_type": "code",
   "execution_count": 7,
   "metadata": {},
   "outputs": [
    {
     "name": "stdout",
     "output_type": "stream",
     "text": [
      "n1=  175\n",
      "n2=  8177\n",
      "n3=  1648\n",
      "mean_cluster_0 = [1.55056557 1.16725952]\n",
      "mean_cluster_1 = [5.72474332 5.87154429]\n",
      "mean_cluster_2 = [3.02083533 2.88852228]\n",
      "cov_cluster_0 = [[ 0.34258652 -0.45329621]\n",
      " [-0.45329621  1.46507752]]\n",
      "cov_cluster_1 = [[ 1.95327336 -1.09120231]\n",
      " [-1.09120231  3.02391928]]\n",
      "cov_cluster_2 = [[ 0.70722046 -0.51892451]\n",
      " [-0.51892451  2.57829483]]\n"
     ]
    }
   ],
   "source": [
    "cluster_0_data = x[unsupervised_forecasts==0]\n",
    "cluster_1_data = x[unsupervised_forecasts==1]\n",
    "cluster_2_data = x[unsupervised_forecasts==2]\n",
    "\n",
    "# Compute the mean of each cluster\n",
    "mean_cluster_0 = np.mean(cluster_0_data, axis=0)\n",
    "mean_cluster_1 = np.mean(cluster_1_data, axis=0)\n",
    "mean_cluster_2 = np.mean(cluster_2_data, axis=0)\n",
    "\n",
    "# Compute the covariance matrix of each cluster\n",
    "cov_cluster_0 = np.cov(cluster_0_data.T)\n",
    "cov_cluster_1 = np.cov(cluster_1_data.T)\n",
    "cov_cluster_2 = np.cov(cluster_2_data.T)\n",
    "\n",
    "print('n1= ',len(cluster_0_data))\n",
    "print('n2= ',len(cluster_1_data))\n",
    "print('n3= ',len(cluster_2_data))\n",
    "\n",
    "print(f\"mean_cluster_0 = {mean_cluster_0}\")\n",
    "print(f\"mean_cluster_1 = {mean_cluster_1}\")\n",
    "print(f\"mean_cluster_2 = {mean_cluster_2}\")\n",
    "print(f\"cov_cluster_0 = {cov_cluster_0}\")\n",
    "print(f\"cov_cluster_1 = {cov_cluster_1}\")\n",
    "print(f\"cov_cluster_2 = {cov_cluster_2}\")"
   ]
  }
 ],
 "metadata": {
  "kernelspec": {
   "display_name": "base",
   "language": "python",
   "name": "python3"
  },
  "language_info": {
   "codemirror_mode": {
    "name": "ipython",
    "version": 3
   },
   "file_extension": ".py",
   "mimetype": "text/x-python",
   "name": "python",
   "nbconvert_exporter": "python",
   "pygments_lexer": "ipython3",
   "version": "3.10.9"
  },
  "orig_nbformat": 4
 },
 "nbformat": 4,
 "nbformat_minor": 2
}
