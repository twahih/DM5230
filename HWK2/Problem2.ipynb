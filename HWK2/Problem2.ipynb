{
 "cells": [
  {
   "cell_type": "code",
   "execution_count": 319,
   "metadata": {},
   "outputs": [],
   "source": [
    "import numpy as np\n",
    "from scipy.spatial import distance\n",
    "from sklearn.datasets import fetch_20newsgroups, fetch_openml\n",
    "from sklearn.feature_extraction.text import TfidfVectorizer\n"
   ]
  },
  {
   "cell_type": "code",
   "execution_count": 320,
   "metadata": {},
   "outputs": [],
   "source": [
    "\n",
    "class KMeans:\n",
    "    def __init__(self, n_clusters, max_iterations=10000):\n",
    "        self.n_clusters = n_clusters\n",
    "        self.max_iterations = max_iterations\n",
    "        self.cluster_centers_ = None\n",
    "        self.cluster_indices_ = None\n",
    "\n",
    "    def fit(self, X):\n",
    "        # Randomly select n indices from X with values less than length of X without replacement\n",
    "        random_indices = np.random.choice(len(X), self.n_clusters, replace=False)\n",
    "        self.cluster_centers_ = X[random_indices]  # Get the cluster centers from the selected indices\n",
    "\n",
    "        # Iterate until convergence or maximum iterations reached\n",
    "        for _ in range(self.max_iterations):\n",
    "            # Assign data points to the closest centroids\n",
    "            cluster_labels = self._assign_clusters(X)\n",
    "\n",
    "            # Update cluster centroids\n",
    "            new_centers = self._update_centers(X, cluster_labels)\n",
    "\n",
    "            # Check for convergence\n",
    "            if np.allclose(self.cluster_centers_, new_centers):\n",
    "                break\n",
    "\n",
    "            self.cluster_centers_ = new_centers\n",
    "\n",
    "        self.cluster_indices_ = cluster_labels\n",
    "\n",
    "    def predict(self, X):\n",
    "        # Assign data points to the closest centroids\n",
    "        cluster_labels = self._assign_clusters(X)\n",
    "        return cluster_labels\n",
    "\n",
    "    def _assign_clusters(self, X):\n",
    "        # Assign data points to the closest centroids and return centroid indices\n",
    "        distances = self._compute_distances(X)\n",
    "        cluster_labels = np.argmin(distances, axis=1)\n",
    "        return cluster_labels\n",
    "\n",
    "    def _compute_distances(self, X):\n",
    "        # Calculate the distance matrix using Euclidean distance\n",
    "        distance_matrix = distance.cdist(X, self.cluster_centers_, metric='euclidean')\n",
    "        return distance_matrix\n",
    "\n",
    "    def _update_centers(self, X, cluster_labels):\n",
    "        new_centers = np.zeros_like(self.cluster_centers_)\n",
    "        for i in range(self.n_clusters):\n",
    "            mask = cluster_labels == i\n",
    "            if np.any(mask):\n",
    "                new_centers[i] = np.mean(X[mask], axis=0)\n",
    "            else:\n",
    "                # If a cluster has no data points assigned to it, keep the previous centroid\n",
    "                new_centers[i] = self.cluster_centers_[i]\n",
    "        return new_centers\n"
   ]
  },
  {
   "cell_type": "code",
   "execution_count": 321,
   "metadata": {},
   "outputs": [
    {
     "name": "stdout",
     "output_type": "stream",
     "text": [
      "MNSIST\n",
      "Adjusted Rand Index: 0.6159347691202096\n",
      "Homogeneity Score: 0.7181580191783904\n",
      "Completeness Score: 0.7465978292024404\n"
     ]
    }
   ],
   "source": [
    "from sklearn.datasets import load_digits\n",
    "from sklearn.metrics import adjusted_rand_score, homogeneity_score, completeness_score\n",
    "from sklearn.preprocessing import MinMaxScaler\n",
    "\n",
    "# Load the MNIST dataset\n",
    "digits = load_digits()\n",
    "\n",
    "# Preprocess the data\n",
    "X = digits.data\n",
    "X = MinMaxScaler().fit_transform(X)\n",
    "\n",
    "# Create an instance of the KMeans class\n",
    "kmeans = KMeans(n_clusters=10)\n",
    "\n",
    "# Fit the KMeans model\n",
    "kmeans.fit(X)\n",
    "\n",
    "# Get the predicted cluster labels\n",
    "predicted_labels = kmeans.predict(X)\n",
    "\n",
    "# Evaluate the performance\n",
    "true_labels = digits.target\n",
    "\n",
    "ari = adjusted_rand_score(true_labels, predicted_labels)\n",
    "homogeneity = homogeneity_score(true_labels, predicted_labels)\n",
    "completeness = completeness_score(true_labels, predicted_labels)\n",
    "\n",
    "print('MNSIST')\n",
    "print(\"Adjusted Rand Index:\", ari)\n",
    "print(\"Homogeneity Score:\", homogeneity)\n",
    "print(\"Completeness Score:\", completeness)\n"
   ]
  },
  {
   "attachments": {},
   "cell_type": "markdown",
   "metadata": {},
   "source": [
    "## B "
   ]
  },
  {
   "cell_type": "code",
   "execution_count": 322,
   "metadata": {},
   "outputs": [],
   "source": [
    "import numpy as np\n",
    "from tensorflow.keras.datasets import fashion_mnist\n",
    "from sklearn.cluster import KMeans\n",
    "from sklearn.metrics import adjusted_rand_score, homogeneity_score, completeness_score\n",
    "\n",
    "# Load the FASHION dataset\n",
    "(X_train, y_train), (X_test, y_test) = fashion_mnist.load_data()"
   ]
  },
  {
   "cell_type": "code",
   "execution_count": 323,
   "metadata": {},
   "outputs": [
    {
     "name": "stderr",
     "output_type": "stream",
     "text": [
      "c:\\Users\\twahirwa.h\\AppData\\Local\\anaconda3\\lib\\site-packages\\sklearn\\cluster\\_kmeans.py:870: FutureWarning: The default value of `n_init` will change from 10 to 'auto' in 1.4. Set the value of `n_init` explicitly to suppress the warning\n",
      "  warnings.warn(\n"
     ]
    },
    {
     "name": "stdout",
     "output_type": "stream",
     "text": [
      "Fashing dataset:\n",
      "Adjusted Rand Index: 0.3837040596466122\n",
      "Homogeneity Score: 0.5188345432236771\n",
      "Completeness Score: 0.538646403109721\n"
     ]
    }
   ],
   "source": [
    "\n",
    "\n",
    "# Reshape and flatten the images\n",
    "X_train = X_train.reshape(-1, 28*28)\n",
    "X_train = X_train.astype('float32') / 255.0\n",
    "\n",
    "# Run KMeans algorithm\n",
    "kmeans = KMeans(n_clusters=10)\n",
    "kmeans.fit(X_train)\n",
    "\n",
    "# Evaluate the clustering performance\n",
    "ari = adjusted_rand_score(y_train, kmeans.labels_)\n",
    "homogeneity = homogeneity_score(y_train, kmeans.labels_)\n",
    "completeness = completeness_score(y_train, kmeans.labels_)\n",
    "\n",
    "# Print the evaluation scores\n",
    "print('Fashing dataset:')\n",
    "print(\"Adjusted Rand Index:\", ari)\n",
    "print(\"Homogeneity Score:\", homogeneity)\n",
    "print(\"Completeness Score:\", completeness)\n"
   ]
  },
  {
   "attachments": {},
   "cell_type": "markdown",
   "metadata": {},
   "source": [
    "# C"
   ]
  },
  {
   "cell_type": "code",
   "execution_count": 324,
   "metadata": {},
   "outputs": [],
   "source": [
    "# Load the 20NG text dataset\n",
    "newsgroups = fetch_20newsgroups(subset='all')\n",
    "\n",
    "# Convert the text data into TF-IDF features\n",
    "vectorizer = TfidfVectorizer()\n",
    "X = vectorizer.fit_transform(newsgroups.data)\n",
    "y = newsgroups.target"
   ]
  },
  {
   "cell_type": "code",
   "execution_count": 326,
   "metadata": {},
   "outputs": [
    {
     "name": "stderr",
     "output_type": "stream",
     "text": [
      "c:\\Users\\twahirwa.h\\AppData\\Local\\anaconda3\\lib\\site-packages\\sklearn\\cluster\\_kmeans.py:870: FutureWarning: The default value of `n_init` will change from 10 to 'auto' in 1.4. Set the value of `n_init` explicitly to suppress the warning\n",
      "  warnings.warn(\n"
     ]
    },
    {
     "name": "stdout",
     "output_type": "stream",
     "text": [
      "2O NG \n",
      "Adjusted Rand Index: 0.05732837013111314\n",
      "Homogeneity Score: 0.16741500707236734\n",
      "Completeness Score: 0.3058746258613677\n"
     ]
    }
   ],
   "source": [
    "# Create an instance of the KMeans class\n",
    "kmeans = KMeans(n_clusters=10)\n",
    "\n",
    "# Fit the KMeans model\n",
    "kmeans.fit(X)\n",
    "\n",
    "# Get the predicted cluster labels\n",
    "predicted_labels = kmeans.predict(X)\n",
    "\n",
    "# Evaluate the performance\n",
    "true_labels = y\n",
    "\n",
    "ari = adjusted_rand_score(true_labels, predicted_labels)\n",
    "homogeneity = homogeneity_score(true_labels, predicted_labels)\n",
    "completeness = completeness_score(true_labels, predicted_labels)\n",
    "\n",
    "print('2O NG ')\n",
    "print(\"Adjusted Rand Index:\", ari)\n",
    "print(\"Homogeneity Score:\", homogeneity)\n",
    "print(\"Completeness Score:\", completeness)"
   ]
  }
 ],
 "metadata": {
  "kernelspec": {
   "display_name": "base",
   "language": "python",
   "name": "python3"
  },
  "language_info": {
   "codemirror_mode": {
    "name": "ipython",
    "version": 3
   },
   "file_extension": ".py",
   "mimetype": "text/x-python",
   "name": "python",
   "nbconvert_exporter": "python",
   "pygments_lexer": "ipython3",
   "version": "3.10.9"
  },
  "orig_nbformat": 4
 },
 "nbformat": 4,
 "nbformat_minor": 2
}
